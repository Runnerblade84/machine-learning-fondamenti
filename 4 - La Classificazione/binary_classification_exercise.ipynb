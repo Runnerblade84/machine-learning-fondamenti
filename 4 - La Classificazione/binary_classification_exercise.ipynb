{
  "cells": [
    {
      "cell_type": "markdown",
      "metadata": {
        "colab_type": "text",
        "id": "view-in-github"
      },
      "source": [
        "<a href=\"https://colab.research.google.com/github/ProfAI/machine-learning-fondamenti/blob/main/4%20-%20La%20Classificazione/binary_classification_exercise.ipynb\" target=\"_parent\"><img src=\"https://colab.research.google.com/assets/colab-badge.svg\" alt=\"Open In Colab\"/></a>"
      ]
    },
    {
      "cell_type": "markdown",
      "metadata": {
        "id": "RnBrbMlaqChA"
      },
      "source": [
        "# Riconoscimento di tumori al seno maligni"
      ]
    },
    {
      "cell_type": "markdown",
      "metadata": {
        "id": "lqaV-qIHU-vO"
      },
      "source": [
        "Nello specifico, devi creare un modello di classificazione, in grado di riconoscere i tumori maligni, che:\n",
        "\n",
        "1. Ha un accuracy sul set di test di almeno 0.98.\n",
        "2. Ha un AUC sul set di test di almeno 0.98.\n",
        "2. Ha un recall di 1 (0 falsi positivi).\n",
        "\n",
        "Per valutare il modello, devi ricreare le seguenti visualizzazioni:\n",
        "\n",
        "<img src=\"https://raw.githubusercontent.com/ProfAI/machine-learning-fondamenti/main/4%20-%20La%20Classificazione/res/cancer_classifier_cm.png\" width=\"400px\"/>\n",
        "\n",
        "<img src=\"https://raw.githubusercontent.com/ProfAI/machine-learning-fondamenti/main/4%20-%20La%20Classificazione/res/cancer_classifier_auc.png\" width=\"400px\"/>\n",
        "\n",
        "\n",
        "Una volta fatto, fornisci le previsioni per questi dati, salvando in un file excel le seguenti informazioni:\n",
        "1. L'ID paziente\n",
        "2. La previsione del modello\n",
        "3. La probabilità associata alla classe predetta"
      ]
    },
    {
      "cell_type": "markdown",
      "metadata": {
        "id": "GjTZVwSBf7-I"
      },
      "source": [
        "## Soluzione"
      ]
    },
    {
      "cell_type": "code",
      "execution_count": 2,
      "metadata": {
        "id": "2KN8Eo3yp-Oi"
      },
      "outputs": [],
      "source": [
        "import pandas as pd\n",
        "import numpy as np\n",
        "import matplotlib.pyplot as plt\n",
        "import seaborn as sns\n",
        "from sklearn.model_selection import train_test_split\n",
        "from sklearn.preprocessing import StandardScaler\n",
        "from sklearn.linear_model import LogisticRegression\n",
        "from sklearn.metrics import classification_report, confusion_matrix\n",
        "from sklearn.metrics import RocCurveDisplay"
      ]
    },
    {
      "cell_type": "markdown",
      "metadata": {
        "id": "ttmzHJPDgFCf"
      },
      "source": [
        "### Importiamo il dataset"
      ]
    },
    {
      "cell_type": "code",
      "execution_count": 3,
      "metadata": {
        "colab": {
          "base_uri": "https://localhost:8080/",
          "height": 305
        },
        "id": "QsSZucGHqLXT",
        "outputId": "91e92f6c-606a-4648-a648-0f156faf3d0f"
      },
      "outputs": [
        {
          "data": {
            "text/html": [
              "<div>\n",
              "<style scoped>\n",
              "    .dataframe tbody tr th:only-of-type {\n",
              "        vertical-align: middle;\n",
              "    }\n",
              "\n",
              "    .dataframe tbody tr th {\n",
              "        vertical-align: top;\n",
              "    }\n",
              "\n",
              "    .dataframe thead th {\n",
              "        text-align: right;\n",
              "    }\n",
              "</style>\n",
              "<table border=\"1\" class=\"dataframe\">\n",
              "  <thead>\n",
              "    <tr style=\"text-align: right;\">\n",
              "      <th></th>\n",
              "      <th>ID number</th>\n",
              "      <th>diagnosis</th>\n",
              "      <th>radius mean</th>\n",
              "      <th>texture mean</th>\n",
              "      <th>perimeter mean</th>\n",
              "      <th>area mean</th>\n",
              "      <th>smoothness mean</th>\n",
              "      <th>compactness mean</th>\n",
              "      <th>concavity mean</th>\n",
              "      <th>concave points mean</th>\n",
              "      <th>...</th>\n",
              "      <th>radius worst</th>\n",
              "      <th>texture worst</th>\n",
              "      <th>perimeter worst</th>\n",
              "      <th>area worst</th>\n",
              "      <th>smoothness worstse</th>\n",
              "      <th>compactness worst</th>\n",
              "      <th>concavity worst</th>\n",
              "      <th>concave points worst</th>\n",
              "      <th>symmetry worst</th>\n",
              "      <th>fractal dimension worst</th>\n",
              "    </tr>\n",
              "  </thead>\n",
              "  <tbody>\n",
              "    <tr>\n",
              "      <th>0</th>\n",
              "      <td>842517</td>\n",
              "      <td>M</td>\n",
              "      <td>20.57</td>\n",
              "      <td>17.77</td>\n",
              "      <td>132.90</td>\n",
              "      <td>1326.0</td>\n",
              "      <td>0.08474</td>\n",
              "      <td>0.07864</td>\n",
              "      <td>0.0869</td>\n",
              "      <td>0.07017</td>\n",
              "      <td>...</td>\n",
              "      <td>24.99</td>\n",
              "      <td>23.41</td>\n",
              "      <td>158.80</td>\n",
              "      <td>1956.0</td>\n",
              "      <td>0.1238</td>\n",
              "      <td>0.1866</td>\n",
              "      <td>0.2416</td>\n",
              "      <td>0.1860</td>\n",
              "      <td>0.2750</td>\n",
              "      <td>0.08902</td>\n",
              "    </tr>\n",
              "    <tr>\n",
              "      <th>1</th>\n",
              "      <td>84300903</td>\n",
              "      <td>M</td>\n",
              "      <td>19.69</td>\n",
              "      <td>21.25</td>\n",
              "      <td>130.00</td>\n",
              "      <td>1203.0</td>\n",
              "      <td>0.10960</td>\n",
              "      <td>0.15990</td>\n",
              "      <td>0.1974</td>\n",
              "      <td>0.12790</td>\n",
              "      <td>...</td>\n",
              "      <td>23.57</td>\n",
              "      <td>25.53</td>\n",
              "      <td>152.50</td>\n",
              "      <td>1709.0</td>\n",
              "      <td>0.1444</td>\n",
              "      <td>0.4245</td>\n",
              "      <td>0.4504</td>\n",
              "      <td>0.2430</td>\n",
              "      <td>0.3613</td>\n",
              "      <td>0.08758</td>\n",
              "    </tr>\n",
              "    <tr>\n",
              "      <th>2</th>\n",
              "      <td>84348301</td>\n",
              "      <td>M</td>\n",
              "      <td>11.42</td>\n",
              "      <td>20.38</td>\n",
              "      <td>77.58</td>\n",
              "      <td>386.1</td>\n",
              "      <td>0.14250</td>\n",
              "      <td>0.28390</td>\n",
              "      <td>0.2414</td>\n",
              "      <td>0.10520</td>\n",
              "      <td>...</td>\n",
              "      <td>14.91</td>\n",
              "      <td>26.50</td>\n",
              "      <td>98.87</td>\n",
              "      <td>567.7</td>\n",
              "      <td>0.2098</td>\n",
              "      <td>0.8663</td>\n",
              "      <td>0.6869</td>\n",
              "      <td>0.2575</td>\n",
              "      <td>0.6638</td>\n",
              "      <td>0.17300</td>\n",
              "    </tr>\n",
              "    <tr>\n",
              "      <th>3</th>\n",
              "      <td>84358402</td>\n",
              "      <td>M</td>\n",
              "      <td>20.29</td>\n",
              "      <td>14.34</td>\n",
              "      <td>135.10</td>\n",
              "      <td>1297.0</td>\n",
              "      <td>0.10030</td>\n",
              "      <td>0.13280</td>\n",
              "      <td>0.1980</td>\n",
              "      <td>0.10430</td>\n",
              "      <td>...</td>\n",
              "      <td>22.54</td>\n",
              "      <td>16.67</td>\n",
              "      <td>152.20</td>\n",
              "      <td>1575.0</td>\n",
              "      <td>0.1374</td>\n",
              "      <td>0.2050</td>\n",
              "      <td>0.4000</td>\n",
              "      <td>0.1625</td>\n",
              "      <td>0.2364</td>\n",
              "      <td>0.07678</td>\n",
              "    </tr>\n",
              "    <tr>\n",
              "      <th>4</th>\n",
              "      <td>843786</td>\n",
              "      <td>M</td>\n",
              "      <td>12.45</td>\n",
              "      <td>15.70</td>\n",
              "      <td>82.57</td>\n",
              "      <td>477.1</td>\n",
              "      <td>0.12780</td>\n",
              "      <td>0.17000</td>\n",
              "      <td>0.1578</td>\n",
              "      <td>0.08089</td>\n",
              "      <td>...</td>\n",
              "      <td>15.47</td>\n",
              "      <td>23.75</td>\n",
              "      <td>103.40</td>\n",
              "      <td>741.6</td>\n",
              "      <td>0.1791</td>\n",
              "      <td>0.5249</td>\n",
              "      <td>0.5355</td>\n",
              "      <td>0.1741</td>\n",
              "      <td>0.3985</td>\n",
              "      <td>0.12440</td>\n",
              "    </tr>\n",
              "  </tbody>\n",
              "</table>\n",
              "<p>5 rows × 32 columns</p>\n",
              "</div>"
            ],
            "text/plain": [
              "   ID number diagnosis  radius mean  texture mean  perimeter mean  area mean  \\\n",
              "0     842517         M        20.57         17.77          132.90     1326.0   \n",
              "1   84300903         M        19.69         21.25          130.00     1203.0   \n",
              "2   84348301         M        11.42         20.38           77.58      386.1   \n",
              "3   84358402         M        20.29         14.34          135.10     1297.0   \n",
              "4     843786         M        12.45         15.70           82.57      477.1   \n",
              "\n",
              "   smoothness mean  compactness mean  concavity mean  concave points mean  \\\n",
              "0          0.08474           0.07864          0.0869              0.07017   \n",
              "1          0.10960           0.15990          0.1974              0.12790   \n",
              "2          0.14250           0.28390          0.2414              0.10520   \n",
              "3          0.10030           0.13280          0.1980              0.10430   \n",
              "4          0.12780           0.17000          0.1578              0.08089   \n",
              "\n",
              "   ...  radius worst  texture worst  perimeter worst  area worst  \\\n",
              "0  ...         24.99          23.41           158.80      1956.0   \n",
              "1  ...         23.57          25.53           152.50      1709.0   \n",
              "2  ...         14.91          26.50            98.87       567.7   \n",
              "3  ...         22.54          16.67           152.20      1575.0   \n",
              "4  ...         15.47          23.75           103.40       741.6   \n",
              "\n",
              "   smoothness worstse  compactness worst  concavity worst  \\\n",
              "0              0.1238             0.1866           0.2416   \n",
              "1              0.1444             0.4245           0.4504   \n",
              "2              0.2098             0.8663           0.6869   \n",
              "3              0.1374             0.2050           0.4000   \n",
              "4              0.1791             0.5249           0.5355   \n",
              "\n",
              "   concave points worst  symmetry worst  fractal dimension worst  \n",
              "0                0.1860          0.2750                  0.08902  \n",
              "1                0.2430          0.3613                  0.08758  \n",
              "2                0.2575          0.6638                  0.17300  \n",
              "3                0.1625          0.2364                  0.07678  \n",
              "4                0.1741          0.3985                  0.12440  \n",
              "\n",
              "[5 rows x 32 columns]"
            ]
          },
          "execution_count": 3,
          "metadata": {},
          "output_type": "execute_result"
        }
      ],
      "source": [
        "BASE_URL=\"https://raw.githubusercontent.com/ProfAI/machine-learning-fondamenti/main/datasets/\"\n",
        "df = pd.read_csv(BASE_URL+\"breast_cancer.csv\")\n",
        "df.head()"
      ]
    },
    {
      "cell_type": "code",
      "execution_count": 4,
      "metadata": {
        "id": "9wMQOqN9s-ij"
      },
      "outputs": [],
      "source": [
        "df = df.drop(\"ID number\", axis=1)"
      ]
    },
    {
      "cell_type": "code",
      "execution_count": 5,
      "metadata": {
        "colab": {
          "base_uri": "https://localhost:8080/"
        },
        "id": "1cDfuoTAjR80",
        "outputId": "0b591434-71eb-4414-a128-6cf6bd641842"
      },
      "outputs": [
        {
          "name": "stdout",
          "output_type": "stream",
          "text": [
            "Benignant = 353 (62.70%) \n",
            "Malignant = 210 (37.30%) \n"
          ]
        }
      ],
      "source": [
        "counts = df[\"diagnosis\"].value_counts()\n",
        "print(f\"Benignant = {counts[0]} ({counts[0]/counts.sum()*100:.2f}%) \")\n",
        "print(f\"Malignant = {counts[1]} ({counts[1]/counts.sum()*100:.2f}%) \")"
      ]
    },
    {
      "cell_type": "code",
      "execution_count": 6,
      "metadata": {
        "colab": {
          "base_uri": "https://localhost:8080/",
          "height": 305
        },
        "id": "BuIC1nlDvS6k",
        "outputId": "14e104c0-45fe-41e8-fca5-34d6d9ceb7e8"
      },
      "outputs": [
        {
          "data": {
            "text/html": [
              "<div>\n",
              "<style scoped>\n",
              "    .dataframe tbody tr th:only-of-type {\n",
              "        vertical-align: middle;\n",
              "    }\n",
              "\n",
              "    .dataframe tbody tr th {\n",
              "        vertical-align: top;\n",
              "    }\n",
              "\n",
              "    .dataframe thead th {\n",
              "        text-align: right;\n",
              "    }\n",
              "</style>\n",
              "<table border=\"1\" class=\"dataframe\">\n",
              "  <thead>\n",
              "    <tr style=\"text-align: right;\">\n",
              "      <th></th>\n",
              "      <th>diagnosis</th>\n",
              "      <th>radius mean</th>\n",
              "      <th>texture mean</th>\n",
              "      <th>perimeter mean</th>\n",
              "      <th>area mean</th>\n",
              "      <th>smoothness mean</th>\n",
              "      <th>compactness mean</th>\n",
              "      <th>concavity mean</th>\n",
              "      <th>concave points mean</th>\n",
              "      <th>symmetry mean</th>\n",
              "      <th>...</th>\n",
              "      <th>radius worst</th>\n",
              "      <th>texture worst</th>\n",
              "      <th>perimeter worst</th>\n",
              "      <th>area worst</th>\n",
              "      <th>smoothness worstse</th>\n",
              "      <th>compactness worst</th>\n",
              "      <th>concavity worst</th>\n",
              "      <th>concave points worst</th>\n",
              "      <th>symmetry worst</th>\n",
              "      <th>fractal dimension worst</th>\n",
              "    </tr>\n",
              "  </thead>\n",
              "  <tbody>\n",
              "    <tr>\n",
              "      <th>0</th>\n",
              "      <td>1</td>\n",
              "      <td>20.57</td>\n",
              "      <td>17.77</td>\n",
              "      <td>132.90</td>\n",
              "      <td>1326.0</td>\n",
              "      <td>0.08474</td>\n",
              "      <td>0.07864</td>\n",
              "      <td>0.0869</td>\n",
              "      <td>0.07017</td>\n",
              "      <td>0.1812</td>\n",
              "      <td>...</td>\n",
              "      <td>24.99</td>\n",
              "      <td>23.41</td>\n",
              "      <td>158.80</td>\n",
              "      <td>1956.0</td>\n",
              "      <td>0.1238</td>\n",
              "      <td>0.1866</td>\n",
              "      <td>0.2416</td>\n",
              "      <td>0.1860</td>\n",
              "      <td>0.2750</td>\n",
              "      <td>0.08902</td>\n",
              "    </tr>\n",
              "    <tr>\n",
              "      <th>1</th>\n",
              "      <td>1</td>\n",
              "      <td>19.69</td>\n",
              "      <td>21.25</td>\n",
              "      <td>130.00</td>\n",
              "      <td>1203.0</td>\n",
              "      <td>0.10960</td>\n",
              "      <td>0.15990</td>\n",
              "      <td>0.1974</td>\n",
              "      <td>0.12790</td>\n",
              "      <td>0.2069</td>\n",
              "      <td>...</td>\n",
              "      <td>23.57</td>\n",
              "      <td>25.53</td>\n",
              "      <td>152.50</td>\n",
              "      <td>1709.0</td>\n",
              "      <td>0.1444</td>\n",
              "      <td>0.4245</td>\n",
              "      <td>0.4504</td>\n",
              "      <td>0.2430</td>\n",
              "      <td>0.3613</td>\n",
              "      <td>0.08758</td>\n",
              "    </tr>\n",
              "    <tr>\n",
              "      <th>2</th>\n",
              "      <td>1</td>\n",
              "      <td>11.42</td>\n",
              "      <td>20.38</td>\n",
              "      <td>77.58</td>\n",
              "      <td>386.1</td>\n",
              "      <td>0.14250</td>\n",
              "      <td>0.28390</td>\n",
              "      <td>0.2414</td>\n",
              "      <td>0.10520</td>\n",
              "      <td>0.2597</td>\n",
              "      <td>...</td>\n",
              "      <td>14.91</td>\n",
              "      <td>26.50</td>\n",
              "      <td>98.87</td>\n",
              "      <td>567.7</td>\n",
              "      <td>0.2098</td>\n",
              "      <td>0.8663</td>\n",
              "      <td>0.6869</td>\n",
              "      <td>0.2575</td>\n",
              "      <td>0.6638</td>\n",
              "      <td>0.17300</td>\n",
              "    </tr>\n",
              "    <tr>\n",
              "      <th>3</th>\n",
              "      <td>1</td>\n",
              "      <td>20.29</td>\n",
              "      <td>14.34</td>\n",
              "      <td>135.10</td>\n",
              "      <td>1297.0</td>\n",
              "      <td>0.10030</td>\n",
              "      <td>0.13280</td>\n",
              "      <td>0.1980</td>\n",
              "      <td>0.10430</td>\n",
              "      <td>0.1809</td>\n",
              "      <td>...</td>\n",
              "      <td>22.54</td>\n",
              "      <td>16.67</td>\n",
              "      <td>152.20</td>\n",
              "      <td>1575.0</td>\n",
              "      <td>0.1374</td>\n",
              "      <td>0.2050</td>\n",
              "      <td>0.4000</td>\n",
              "      <td>0.1625</td>\n",
              "      <td>0.2364</td>\n",
              "      <td>0.07678</td>\n",
              "    </tr>\n",
              "    <tr>\n",
              "      <th>4</th>\n",
              "      <td>1</td>\n",
              "      <td>12.45</td>\n",
              "      <td>15.70</td>\n",
              "      <td>82.57</td>\n",
              "      <td>477.1</td>\n",
              "      <td>0.12780</td>\n",
              "      <td>0.17000</td>\n",
              "      <td>0.1578</td>\n",
              "      <td>0.08089</td>\n",
              "      <td>0.2087</td>\n",
              "      <td>...</td>\n",
              "      <td>15.47</td>\n",
              "      <td>23.75</td>\n",
              "      <td>103.40</td>\n",
              "      <td>741.6</td>\n",
              "      <td>0.1791</td>\n",
              "      <td>0.5249</td>\n",
              "      <td>0.5355</td>\n",
              "      <td>0.1741</td>\n",
              "      <td>0.3985</td>\n",
              "      <td>0.12440</td>\n",
              "    </tr>\n",
              "  </tbody>\n",
              "</table>\n",
              "<p>5 rows × 31 columns</p>\n",
              "</div>"
            ],
            "text/plain": [
              "   diagnosis  radius mean  texture mean  perimeter mean  area mean  \\\n",
              "0          1        20.57         17.77          132.90     1326.0   \n",
              "1          1        19.69         21.25          130.00     1203.0   \n",
              "2          1        11.42         20.38           77.58      386.1   \n",
              "3          1        20.29         14.34          135.10     1297.0   \n",
              "4          1        12.45         15.70           82.57      477.1   \n",
              "\n",
              "   smoothness mean  compactness mean  concavity mean  concave points mean  \\\n",
              "0          0.08474           0.07864          0.0869              0.07017   \n",
              "1          0.10960           0.15990          0.1974              0.12790   \n",
              "2          0.14250           0.28390          0.2414              0.10520   \n",
              "3          0.10030           0.13280          0.1980              0.10430   \n",
              "4          0.12780           0.17000          0.1578              0.08089   \n",
              "\n",
              "   symmetry mean  ...  radius worst  texture worst  perimeter worst  \\\n",
              "0         0.1812  ...         24.99          23.41           158.80   \n",
              "1         0.2069  ...         23.57          25.53           152.50   \n",
              "2         0.2597  ...         14.91          26.50            98.87   \n",
              "3         0.1809  ...         22.54          16.67           152.20   \n",
              "4         0.2087  ...         15.47          23.75           103.40   \n",
              "\n",
              "   area worst  smoothness worstse  compactness worst  concavity worst  \\\n",
              "0      1956.0              0.1238             0.1866           0.2416   \n",
              "1      1709.0              0.1444             0.4245           0.4504   \n",
              "2       567.7              0.2098             0.8663           0.6869   \n",
              "3      1575.0              0.1374             0.2050           0.4000   \n",
              "4       741.6              0.1791             0.5249           0.5355   \n",
              "\n",
              "   concave points worst  symmetry worst  fractal dimension worst  \n",
              "0                0.1860          0.2750                  0.08902  \n",
              "1                0.2430          0.3613                  0.08758  \n",
              "2                0.2575          0.6638                  0.17300  \n",
              "3                0.1625          0.2364                  0.07678  \n",
              "4                0.1741          0.3985                  0.12440  \n",
              "\n",
              "[5 rows x 31 columns]"
            ]
          },
          "execution_count": 6,
          "metadata": {},
          "output_type": "execute_result"
        }
      ],
      "source": [
        "map_dict = {\"M\":1, \"B\":0}\n",
        "df[\"diagnosis\"] = df[\"diagnosis\"].map(lambda x: map_dict[x])\n",
        "df.head()"
      ]
    },
    {
      "cell_type": "markdown",
      "metadata": {
        "id": "O-wUoV5BgQI8"
      },
      "source": [
        "### Creiamo il modello"
      ]
    },
    {
      "cell_type": "code",
      "execution_count": 7,
      "metadata": {
        "id": "lfnYJpngvlxo"
      },
      "outputs": [],
      "source": [
        "X = df.drop(\"diagnosis\", axis=1).values\n",
        "y = df[\"diagnosis\"].values\n",
        "\n",
        "X_train, X_test, y_train, y_test = train_test_split(X, y, test_size=.3, random_state=0)"
      ]
    },
    {
      "cell_type": "code",
      "execution_count": 8,
      "metadata": {
        "id": "607ORejKwBWZ"
      },
      "outputs": [],
      "source": [
        "ss = StandardScaler()\n",
        "X_train = ss.fit_transform(X_train)\n",
        "X_test = ss.transform(X_test)"
      ]
    },
    {
      "cell_type": "code",
      "execution_count": 9,
      "metadata": {
        "colab": {
          "base_uri": "https://localhost:8080/"
        },
        "id": "yOvNg_a5wURL",
        "outputId": "1e7c5c67-cee7-4ce0-9f22-e1403b1ca582"
      },
      "outputs": [
        {
          "data": {
            "text/html": [
              "<style>#sk-container-id-1 {color: black;background-color: white;}#sk-container-id-1 pre{padding: 0;}#sk-container-id-1 div.sk-toggleable {background-color: white;}#sk-container-id-1 label.sk-toggleable__label {cursor: pointer;display: block;width: 100%;margin-bottom: 0;padding: 0.3em;box-sizing: border-box;text-align: center;}#sk-container-id-1 label.sk-toggleable__label-arrow:before {content: \"▸\";float: left;margin-right: 0.25em;color: #696969;}#sk-container-id-1 label.sk-toggleable__label-arrow:hover:before {color: black;}#sk-container-id-1 div.sk-estimator:hover label.sk-toggleable__label-arrow:before {color: black;}#sk-container-id-1 div.sk-toggleable__content {max-height: 0;max-width: 0;overflow: hidden;text-align: left;background-color: #f0f8ff;}#sk-container-id-1 div.sk-toggleable__content pre {margin: 0.2em;color: black;border-radius: 0.25em;background-color: #f0f8ff;}#sk-container-id-1 input.sk-toggleable__control:checked~div.sk-toggleable__content {max-height: 200px;max-width: 100%;overflow: auto;}#sk-container-id-1 input.sk-toggleable__control:checked~label.sk-toggleable__label-arrow:before {content: \"▾\";}#sk-container-id-1 div.sk-estimator input.sk-toggleable__control:checked~label.sk-toggleable__label {background-color: #d4ebff;}#sk-container-id-1 div.sk-label input.sk-toggleable__control:checked~label.sk-toggleable__label {background-color: #d4ebff;}#sk-container-id-1 input.sk-hidden--visually {border: 0;clip: rect(1px 1px 1px 1px);clip: rect(1px, 1px, 1px, 1px);height: 1px;margin: -1px;overflow: hidden;padding: 0;position: absolute;width: 1px;}#sk-container-id-1 div.sk-estimator {font-family: monospace;background-color: #f0f8ff;border: 1px dotted black;border-radius: 0.25em;box-sizing: border-box;margin-bottom: 0.5em;}#sk-container-id-1 div.sk-estimator:hover {background-color: #d4ebff;}#sk-container-id-1 div.sk-parallel-item::after {content: \"\";width: 100%;border-bottom: 1px solid gray;flex-grow: 1;}#sk-container-id-1 div.sk-label:hover label.sk-toggleable__label {background-color: #d4ebff;}#sk-container-id-1 div.sk-serial::before {content: \"\";position: absolute;border-left: 1px solid gray;box-sizing: border-box;top: 0;bottom: 0;left: 50%;z-index: 0;}#sk-container-id-1 div.sk-serial {display: flex;flex-direction: column;align-items: center;background-color: white;padding-right: 0.2em;padding-left: 0.2em;position: relative;}#sk-container-id-1 div.sk-item {position: relative;z-index: 1;}#sk-container-id-1 div.sk-parallel {display: flex;align-items: stretch;justify-content: center;background-color: white;position: relative;}#sk-container-id-1 div.sk-item::before, #sk-container-id-1 div.sk-parallel-item::before {content: \"\";position: absolute;border-left: 1px solid gray;box-sizing: border-box;top: 0;bottom: 0;left: 50%;z-index: -1;}#sk-container-id-1 div.sk-parallel-item {display: flex;flex-direction: column;z-index: 1;position: relative;background-color: white;}#sk-container-id-1 div.sk-parallel-item:first-child::after {align-self: flex-end;width: 50%;}#sk-container-id-1 div.sk-parallel-item:last-child::after {align-self: flex-start;width: 50%;}#sk-container-id-1 div.sk-parallel-item:only-child::after {width: 0;}#sk-container-id-1 div.sk-dashed-wrapped {border: 1px dashed gray;margin: 0 0.4em 0.5em 0.4em;box-sizing: border-box;padding-bottom: 0.4em;background-color: white;}#sk-container-id-1 div.sk-label label {font-family: monospace;font-weight: bold;display: inline-block;line-height: 1.2em;}#sk-container-id-1 div.sk-label-container {text-align: center;}#sk-container-id-1 div.sk-container {/* jupyter's `normalize.less` sets `[hidden] { display: none; }` but bootstrap.min.css set `[hidden] { display: none !important; }` so we also need the `!important` here to be able to override the default hidden behavior on the sphinx rendered scikit-learn.org. See: https://github.com/scikit-learn/scikit-learn/issues/21755 */display: inline-block !important;position: relative;}#sk-container-id-1 div.sk-text-repr-fallback {display: none;}</style><div id=\"sk-container-id-1\" class=\"sk-top-container\"><div class=\"sk-text-repr-fallback\"><pre>LogisticRegression(class_weight=&#x27;balanced&#x27;)</pre><b>In a Jupyter environment, please rerun this cell to show the HTML representation or trust the notebook. <br />On GitHub, the HTML representation is unable to render, please try loading this page with nbviewer.org.</b></div><div class=\"sk-container\" hidden><div class=\"sk-item\"><div class=\"sk-estimator sk-toggleable\"><input class=\"sk-toggleable__control sk-hidden--visually\" id=\"sk-estimator-id-1\" type=\"checkbox\" checked><label for=\"sk-estimator-id-1\" class=\"sk-toggleable__label sk-toggleable__label-arrow\">LogisticRegression</label><div class=\"sk-toggleable__content\"><pre>LogisticRegression(class_weight=&#x27;balanced&#x27;)</pre></div></div></div></div></div>"
            ],
            "text/plain": [
              "LogisticRegression(class_weight='balanced')"
            ]
          },
          "execution_count": 9,
          "metadata": {},
          "output_type": "execute_result"
        }
      ],
      "source": [
        "lr = LogisticRegression(class_weight=\"balanced\")\n",
        "lr.fit(X_train, y_train)"
      ]
    },
    {
      "cell_type": "markdown",
      "metadata": {
        "id": "1LwMkcUmgTpc"
      },
      "source": [
        "### Valutiamo il modello"
      ]
    },
    {
      "cell_type": "code",
      "execution_count": 10,
      "metadata": {
        "colab": {
          "base_uri": "https://localhost:8080/"
        },
        "id": "y-cZpVWZwYov",
        "outputId": "3db9c098-2a19-4784-9393-f868f22ccc83"
      },
      "outputs": [
        {
          "name": "stdout",
          "output_type": "stream",
          "text": [
            "TRAIN REPORT\n",
            "              precision    recall  f1-score   support\n",
            "\n",
            "           0       0.98      0.99      0.99       248\n",
            "           1       0.98      0.97      0.98       146\n",
            "\n",
            "    accuracy                           0.98       394\n",
            "   macro avg       0.98      0.98      0.98       394\n",
            "weighted avg       0.98      0.98      0.98       394\n",
            "\n",
            "TEST REPORT\n",
            "              precision    recall  f1-score   support\n",
            "\n",
            "           0       0.99      0.97      0.98       105\n",
            "           1       0.95      0.98      0.97        64\n",
            "\n",
            "    accuracy                           0.98       169\n",
            "   macro avg       0.97      0.98      0.97       169\n",
            "weighted avg       0.98      0.98      0.98       169\n",
            "\n"
          ]
        }
      ],
      "source": [
        "y_pred_train = lr.predict(X_train)\n",
        "y_proba_train = lr.predict_proba(X_train)\n",
        "y_pred_test = lr.predict(X_test)\n",
        "y_proba_test =  lr.predict_proba(X_test)\n",
        "\n",
        "print(\"TRAIN REPORT\")\n",
        "print(classification_report(y_train, y_pred_train))\n",
        "print(\"TEST REPORT\")\n",
        "print(classification_report(y_test, y_pred_test))"
      ]
    },
    {
      "cell_type": "code",
      "execution_count": 11,
      "metadata": {
        "colab": {
          "base_uri": "https://localhost:8080/",
          "height": 284
        },
        "id": "s-cVHmuFww94",
        "outputId": "c91daf43-a41f-47e1-e00a-43cae5ee3fa6"
      },
      "outputs": [
        {
          "data": {
            "image/png": "[encoded data removed]",
            "text/plain": [
              "<Figure size 640x480 with 2 Axes>"
            ]
          },
          "metadata": {},
          "output_type": "display_data"
        }
      ],
      "source": [
        "def plot_confusion_matrix(y_true, y_pred, labels=[\"Negative\", \"Positive\"], show_precision_recall=True):\n",
        "\n",
        "  cm = confusion_matrix(y_true, y_pred) # tn, fp, fn, tp \n",
        "\n",
        "  df_cm = pd.DataFrame(cm, index = labels,\n",
        "                    columns = [\"Predicted \"+labels[0],\"Predicted \"+labels[1]])\n",
        "  sns.heatmap(df_cm, annot=True, fmt='g')\n",
        "\n",
        "  if show_precision_recall:\n",
        "    # Quale percentuale di classificazione positive erano effettivamente positive ?\n",
        "    plt.text(0, -0.1, f\"Precision: {(cm[1][1]/(cm[1][1]+cm[0][1])):.3f}\")\n",
        "    # Quale percentuale di osservazioni positive sono state classificate come positive ?\n",
        "    plt.text(1, -0.1, f\"Recall: {(cm[1][1]/(cm[1][1]+cm[1][0])):.3f}\")\n",
        "\n",
        "\n",
        "y_pred_train = np.where(y_proba_train[:,1]>0.25,1,0)\n",
        "plot_confusion_matrix(y_train, y_pred_train, [\"Benignant\", \"Malignant\"])"
      ]
    },
    {
      "cell_type": "code",
      "execution_count": 12,
      "metadata": {
        "colab": {
          "base_uri": "https://localhost:8080/",
          "height": 284
        },
        "id": "kYfXI2BPV2fU",
        "outputId": "68a03e39-4c22-46e0-bed5-1a8387b30c8e"
      },
      "outputs": [
        {
          "data": {
            "image/png": "[encoded data removed]",
            "text/plain": [
              "<Figure size 640x480 with 2 Axes>"
            ]
          },
          "metadata": {},
          "output_type": "display_data"
        }
      ],
      "source": [
        "y_pred_test = np.where(y_proba_test[:,1]>0.25,1,0)\n",
        "plot_confusion_matrix(y_test, y_pred_test, [\"Benignant\", \"Malignant\"])"
      ]
    },
    {
      "cell_type": "code",
      "execution_count": null,
      "metadata": {
        "colab": {
          "base_uri": "https://localhost:8080/",
          "height": 353
        },
        "id": "QWmiITSAMYwb",
        "outputId": "457c3fe0-aacd-4479-b0cb-893c1e07fdec"
      },
      "outputs": [],
      "source": [
        "#plot_roc_curve(lr, X_train, y_train, name=\"Cancer Classifier\")\n",
        "svc_disp = RocCurveDisplay.from_estimator(lr, X_train, y_train, name=\"Cancer Classifier\")"
      ]
    },
    {
      "cell_type": "code",
      "execution_count": 19,
      "metadata": {
        "colab": {
          "base_uri": "https://localhost:8080/",
          "height": 354
        },
        "id": "0ov0yMFCOS8Q",
        "outputId": "5d181432-a6c1-4034-aae0-de3d2dcc4d84"
      },
      "outputs": [],
      "source": [
        "#plot_roc_curve(lr, X_test, y_test, name=\"Cancer Classifier\")\n",
        "rfc_disp = RocCurveDisplay.from_estimator(lr, X_test, y_test, ax=svc_disp.ax_)\n",
        "rfc_disp.figure_.suptitle(\"ROC curve comparison\")\n",
        "\n",
        "plt.show()"
      ]
    },
    {
      "cell_type": "markdown",
      "metadata": {
        "id": "audKuv_YgdDw"
      },
      "source": [
        "### Eseguiamo le previsioni"
      ]
    },
    {
      "cell_type": "code",
      "execution_count": 20,
      "metadata": {
        "colab": {
          "base_uri": "https://localhost:8080/",
          "height": 305
        },
        "id": "WPC8MRWaOfu2",
        "outputId": "a05a2096-3e15-45ef-c661-8affa676e956"
      },
      "outputs": [
        {
          "data": {
            "text/html": [
              "<div>\n",
              "<style scoped>\n",
              "    .dataframe tbody tr th:only-of-type {\n",
              "        vertical-align: middle;\n",
              "    }\n",
              "\n",
              "    .dataframe tbody tr th {\n",
              "        vertical-align: top;\n",
              "    }\n",
              "\n",
              "    .dataframe thead th {\n",
              "        text-align: right;\n",
              "    }\n",
              "</style>\n",
              "<table border=\"1\" class=\"dataframe\">\n",
              "  <thead>\n",
              "    <tr style=\"text-align: right;\">\n",
              "      <th></th>\n",
              "      <th>ID number</th>\n",
              "      <th>radius mean</th>\n",
              "      <th>texture mean</th>\n",
              "      <th>perimeter mean</th>\n",
              "      <th>area mean</th>\n",
              "      <th>smoothness mean</th>\n",
              "      <th>compactness mean</th>\n",
              "      <th>concavity mean</th>\n",
              "      <th>concave points mean</th>\n",
              "      <th>symmetry mean</th>\n",
              "      <th>...</th>\n",
              "      <th>radius worst</th>\n",
              "      <th>texture worst</th>\n",
              "      <th>perimeter worst</th>\n",
              "      <th>area worst</th>\n",
              "      <th>smoothness worstse</th>\n",
              "      <th>compactness worst</th>\n",
              "      <th>concavity worst</th>\n",
              "      <th>concave points worst</th>\n",
              "      <th>symmetry worst</th>\n",
              "      <th>fractal dimension worst</th>\n",
              "    </tr>\n",
              "  </thead>\n",
              "  <tbody>\n",
              "    <tr>\n",
              "      <th>0</th>\n",
              "      <td>842302</td>\n",
              "      <td>17.990</td>\n",
              "      <td>10.38</td>\n",
              "      <td>122.80</td>\n",
              "      <td>1001.0</td>\n",
              "      <td>0.11840</td>\n",
              "      <td>0.27760</td>\n",
              "      <td>0.30010</td>\n",
              "      <td>0.14710</td>\n",
              "      <td>0.2419</td>\n",
              "      <td>...</td>\n",
              "      <td>25.38</td>\n",
              "      <td>17.33</td>\n",
              "      <td>184.60</td>\n",
              "      <td>2019.0</td>\n",
              "      <td>0.1622</td>\n",
              "      <td>0.66560</td>\n",
              "      <td>0.71190</td>\n",
              "      <td>0.26540</td>\n",
              "      <td>0.4601</td>\n",
              "      <td>0.11890</td>\n",
              "    </tr>\n",
              "    <tr>\n",
              "      <th>1</th>\n",
              "      <td>8510426</td>\n",
              "      <td>13.540</td>\n",
              "      <td>14.36</td>\n",
              "      <td>87.46</td>\n",
              "      <td>566.3</td>\n",
              "      <td>0.09779</td>\n",
              "      <td>0.08129</td>\n",
              "      <td>0.06664</td>\n",
              "      <td>0.04781</td>\n",
              "      <td>0.1885</td>\n",
              "      <td>...</td>\n",
              "      <td>15.11</td>\n",
              "      <td>19.26</td>\n",
              "      <td>99.70</td>\n",
              "      <td>711.2</td>\n",
              "      <td>0.1440</td>\n",
              "      <td>0.17730</td>\n",
              "      <td>0.23900</td>\n",
              "      <td>0.12880</td>\n",
              "      <td>0.2977</td>\n",
              "      <td>0.07259</td>\n",
              "    </tr>\n",
              "    <tr>\n",
              "      <th>2</th>\n",
              "      <td>8510653</td>\n",
              "      <td>13.080</td>\n",
              "      <td>15.71</td>\n",
              "      <td>85.63</td>\n",
              "      <td>520.0</td>\n",
              "      <td>0.10750</td>\n",
              "      <td>0.12700</td>\n",
              "      <td>0.04568</td>\n",
              "      <td>0.03110</td>\n",
              "      <td>0.1967</td>\n",
              "      <td>...</td>\n",
              "      <td>14.50</td>\n",
              "      <td>20.49</td>\n",
              "      <td>96.09</td>\n",
              "      <td>630.5</td>\n",
              "      <td>0.1312</td>\n",
              "      <td>0.27760</td>\n",
              "      <td>0.18900</td>\n",
              "      <td>0.07283</td>\n",
              "      <td>0.3184</td>\n",
              "      <td>0.08183</td>\n",
              "    </tr>\n",
              "    <tr>\n",
              "      <th>3</th>\n",
              "      <td>8510824</td>\n",
              "      <td>9.504</td>\n",
              "      <td>12.44</td>\n",
              "      <td>60.34</td>\n",
              "      <td>273.9</td>\n",
              "      <td>0.10240</td>\n",
              "      <td>0.06492</td>\n",
              "      <td>0.02956</td>\n",
              "      <td>0.02076</td>\n",
              "      <td>0.1815</td>\n",
              "      <td>...</td>\n",
              "      <td>10.23</td>\n",
              "      <td>15.66</td>\n",
              "      <td>65.13</td>\n",
              "      <td>314.9</td>\n",
              "      <td>0.1324</td>\n",
              "      <td>0.11480</td>\n",
              "      <td>0.08867</td>\n",
              "      <td>0.06227</td>\n",
              "      <td>0.2450</td>\n",
              "      <td>0.07773</td>\n",
              "    </tr>\n",
              "    <tr>\n",
              "      <th>4</th>\n",
              "      <td>859487</td>\n",
              "      <td>12.780</td>\n",
              "      <td>16.49</td>\n",
              "      <td>81.37</td>\n",
              "      <td>502.5</td>\n",
              "      <td>0.09831</td>\n",
              "      <td>0.05234</td>\n",
              "      <td>0.03653</td>\n",
              "      <td>0.02864</td>\n",
              "      <td>0.1590</td>\n",
              "      <td>...</td>\n",
              "      <td>13.46</td>\n",
              "      <td>19.76</td>\n",
              "      <td>85.67</td>\n",
              "      <td>554.9</td>\n",
              "      <td>0.1296</td>\n",
              "      <td>0.07061</td>\n",
              "      <td>0.10390</td>\n",
              "      <td>0.05882</td>\n",
              "      <td>0.2383</td>\n",
              "      <td>0.06410</td>\n",
              "    </tr>\n",
              "  </tbody>\n",
              "</table>\n",
              "<p>5 rows × 31 columns</p>\n",
              "</div>"
            ],
            "text/plain": [
              "   ID number  radius mean  texture mean  perimeter mean  area mean  \\\n",
              "0     842302       17.990         10.38          122.80     1001.0   \n",
              "1    8510426       13.540         14.36           87.46      566.3   \n",
              "2    8510653       13.080         15.71           85.63      520.0   \n",
              "3    8510824        9.504         12.44           60.34      273.9   \n",
              "4     859487       12.780         16.49           81.37      502.5   \n",
              "\n",
              "   smoothness mean  compactness mean  concavity mean  concave points mean  \\\n",
              "0          0.11840           0.27760         0.30010              0.14710   \n",
              "1          0.09779           0.08129         0.06664              0.04781   \n",
              "2          0.10750           0.12700         0.04568              0.03110   \n",
              "3          0.10240           0.06492         0.02956              0.02076   \n",
              "4          0.09831           0.05234         0.03653              0.02864   \n",
              "\n",
              "   symmetry mean  ...  radius worst  texture worst  perimeter worst  \\\n",
              "0         0.2419  ...         25.38          17.33           184.60   \n",
              "1         0.1885  ...         15.11          19.26            99.70   \n",
              "2         0.1967  ...         14.50          20.49            96.09   \n",
              "3         0.1815  ...         10.23          15.66            65.13   \n",
              "4         0.1590  ...         13.46          19.76            85.67   \n",
              "\n",
              "   area worst  smoothness worstse  compactness worst  concavity worst  \\\n",
              "0      2019.0              0.1622            0.66560          0.71190   \n",
              "1       711.2              0.1440            0.17730          0.23900   \n",
              "2       630.5              0.1312            0.27760          0.18900   \n",
              "3       314.9              0.1324            0.11480          0.08867   \n",
              "4       554.9              0.1296            0.07061          0.10390   \n",
              "\n",
              "   concave points worst  symmetry worst  fractal dimension worst  \n",
              "0               0.26540          0.4601                  0.11890  \n",
              "1               0.12880          0.2977                  0.07259  \n",
              "2               0.07283          0.3184                  0.08183  \n",
              "3               0.06227          0.2450                  0.07773  \n",
              "4               0.05882          0.2383                  0.06410  \n",
              "\n",
              "[5 rows x 31 columns]"
            ]
          },
          "execution_count": 20,
          "metadata": {},
          "output_type": "execute_result"
        }
      ],
      "source": [
        "df_pred = pd.read_csv(BASE_URL+\"breast_cancer_pred.csv\")\n",
        "df_pred.head()"
      ]
    },
    {
      "cell_type": "code",
      "execution_count": 21,
      "metadata": {
        "id": "_mG0F3WIQmV9"
      },
      "outputs": [],
      "source": [
        "X = df_pred.drop(\"ID number\", axis=1).values\n",
        "X = ss.transform(X)"
      ]
    },
    {
      "cell_type": "code",
      "execution_count": 22,
      "metadata": {
        "id": "OLLoycHkQuXQ"
      },
      "outputs": [],
      "source": [
        "y_proba = lr.predict_proba(X)\n",
        "y_pred = np.where(y_proba[:,1]>0.3,1,0)"
      ]
    },
    {
      "cell_type": "code",
      "execution_count": 25,
      "metadata": {
        "id": "vYGfFKXmRDnP"
      },
      "outputs": [
        {
          "ename": "ModuleNotFoundError",
          "evalue": "No module named 'openpyxl'",
          "output_type": "error",
          "traceback": [
            "\u001b[0;31m---------------------------------------------------------------------------\u001b[0m",
            "\u001b[0;31mModuleNotFoundError\u001b[0m                       Traceback (most recent call last)",
            "Cell \u001b[0;32mIn[25], line 7\u001b[0m\n\u001b[1;32m      1\u001b[0m df_result \u001b[39m=\u001b[39m pd\u001b[39m.\u001b[39mDataFrame({\n\u001b[1;32m      2\u001b[0m     \u001b[39m\"\u001b[39m\u001b[39mID number\u001b[39m\u001b[39m\"\u001b[39m:df_pred[\u001b[39m\"\u001b[39m\u001b[39mID number\u001b[39m\u001b[39m\"\u001b[39m],\n\u001b[1;32m      3\u001b[0m     \u001b[39m\"\u001b[39m\u001b[39mprediction\u001b[39m\u001b[39m\"\u001b[39m:y_pred,\n\u001b[1;32m      4\u001b[0m     \u001b[39m\"\u001b[39m\u001b[39mprobability\u001b[39m\u001b[39m\"\u001b[39m:y_proba\u001b[39m.\u001b[39mmax(axis\u001b[39m=\u001b[39m\u001b[39m1\u001b[39m)\u001b[39m.\u001b[39mround(\u001b[39m4\u001b[39m)\n\u001b[1;32m      5\u001b[0m })\n\u001b[0;32m----> 7\u001b[0m df_result\u001b[39m.\u001b[39mto_excel(\u001b[39m\"\u001b[39m\u001b[39mbreast_cancer_prediction.xlsx\u001b[39m\u001b[39m\"\u001b[39m)\n",
            "File \u001b[0;32m~/opt/anaconda3/envs/MachineLearning/lib/python3.11/site-packages/pandas/util/_decorators.py:211\u001b[0m, in \u001b[0;36mdeprecate_kwarg.<locals>._deprecate_kwarg.<locals>.wrapper\u001b[0;34m(*args, **kwargs)\u001b[0m\n\u001b[1;32m    209\u001b[0m     \u001b[39melse\u001b[39;00m:\n\u001b[1;32m    210\u001b[0m         kwargs[new_arg_name] \u001b[39m=\u001b[39m new_arg_value\n\u001b[0;32m--> 211\u001b[0m \u001b[39mreturn\u001b[39;00m func(\u001b[39m*\u001b[39margs, \u001b[39m*\u001b[39m\u001b[39m*\u001b[39mkwargs)\n",
            "File \u001b[0;32m~/opt/anaconda3/envs/MachineLearning/lib/python3.11/site-packages/pandas/util/_decorators.py:211\u001b[0m, in \u001b[0;36mdeprecate_kwarg.<locals>._deprecate_kwarg.<locals>.wrapper\u001b[0;34m(*args, **kwargs)\u001b[0m\n\u001b[1;32m    209\u001b[0m     \u001b[39melse\u001b[39;00m:\n\u001b[1;32m    210\u001b[0m         kwargs[new_arg_name] \u001b[39m=\u001b[39m new_arg_value\n\u001b[0;32m--> 211\u001b[0m \u001b[39mreturn\u001b[39;00m func(\u001b[39m*\u001b[39margs, \u001b[39m*\u001b[39m\u001b[39m*\u001b[39mkwargs)\n",
            "File \u001b[0;32m~/opt/anaconda3/envs/MachineLearning/lib/python3.11/site-packages/pandas/core/generic.py:2374\u001b[0m, in \u001b[0;36mNDFrame.to_excel\u001b[0;34m(self, excel_writer, sheet_name, na_rep, float_format, columns, header, index, index_label, startrow, startcol, engine, merge_cells, encoding, inf_rep, verbose, freeze_panes, storage_options)\u001b[0m\n\u001b[1;32m   2361\u001b[0m \u001b[39mfrom\u001b[39;00m \u001b[39mpandas\u001b[39;00m\u001b[39m.\u001b[39;00m\u001b[39mio\u001b[39;00m\u001b[39m.\u001b[39;00m\u001b[39mformats\u001b[39;00m\u001b[39m.\u001b[39;00m\u001b[39mexcel\u001b[39;00m \u001b[39mimport\u001b[39;00m ExcelFormatter\n\u001b[1;32m   2363\u001b[0m formatter \u001b[39m=\u001b[39m ExcelFormatter(\n\u001b[1;32m   2364\u001b[0m     df,\n\u001b[1;32m   2365\u001b[0m     na_rep\u001b[39m=\u001b[39mna_rep,\n\u001b[0;32m   (...)\u001b[0m\n\u001b[1;32m   2372\u001b[0m     inf_rep\u001b[39m=\u001b[39minf_rep,\n\u001b[1;32m   2373\u001b[0m )\n\u001b[0;32m-> 2374\u001b[0m formatter\u001b[39m.\u001b[39mwrite(\n\u001b[1;32m   2375\u001b[0m     excel_writer,\n\u001b[1;32m   2376\u001b[0m     sheet_name\u001b[39m=\u001b[39msheet_name,\n\u001b[1;32m   2377\u001b[0m     startrow\u001b[39m=\u001b[39mstartrow,\n\u001b[1;32m   2378\u001b[0m     startcol\u001b[39m=\u001b[39mstartcol,\n\u001b[1;32m   2379\u001b[0m     freeze_panes\u001b[39m=\u001b[39mfreeze_panes,\n\u001b[1;32m   2380\u001b[0m     engine\u001b[39m=\u001b[39mengine,\n\u001b[1;32m   2381\u001b[0m     storage_options\u001b[39m=\u001b[39mstorage_options,\n\u001b[1;32m   2382\u001b[0m )\n",
            "File \u001b[0;32m~/opt/anaconda3/envs/MachineLearning/lib/python3.11/site-packages/pandas/io/formats/excel.py:944\u001b[0m, in \u001b[0;36mExcelFormatter.write\u001b[0;34m(self, writer, sheet_name, startrow, startcol, freeze_panes, engine, storage_options)\u001b[0m\n\u001b[1;32m    940\u001b[0m     need_save \u001b[39m=\u001b[39m \u001b[39mFalse\u001b[39;00m\n\u001b[1;32m    941\u001b[0m \u001b[39melse\u001b[39;00m:\n\u001b[1;32m    942\u001b[0m     \u001b[39m# error: Cannot instantiate abstract class 'ExcelWriter' with abstract\u001b[39;00m\n\u001b[1;32m    943\u001b[0m     \u001b[39m# attributes 'engine', 'save', 'supported_extensions' and 'write_cells'\u001b[39;00m\n\u001b[0;32m--> 944\u001b[0m     writer \u001b[39m=\u001b[39m ExcelWriter(  \u001b[39m# type: ignore[abstract]\u001b[39;00m\n\u001b[1;32m    945\u001b[0m         writer, engine\u001b[39m=\u001b[39mengine, storage_options\u001b[39m=\u001b[39mstorage_options\n\u001b[1;32m    946\u001b[0m     )\n\u001b[1;32m    947\u001b[0m     need_save \u001b[39m=\u001b[39m \u001b[39mTrue\u001b[39;00m\n\u001b[1;32m    949\u001b[0m \u001b[39mtry\u001b[39;00m:\n",
            "File \u001b[0;32m~/opt/anaconda3/envs/MachineLearning/lib/python3.11/site-packages/pandas/io/excel/_openpyxl.py:56\u001b[0m, in \u001b[0;36mOpenpyxlWriter.__init__\u001b[0;34m(self, path, engine, date_format, datetime_format, mode, storage_options, if_sheet_exists, engine_kwargs, **kwargs)\u001b[0m\n\u001b[1;32m     43\u001b[0m \u001b[39mdef\u001b[39;00m \u001b[39m__init__\u001b[39m(\n\u001b[1;32m     44\u001b[0m     \u001b[39mself\u001b[39m,\n\u001b[1;32m     45\u001b[0m     path: FilePath \u001b[39m|\u001b[39m WriteExcelBuffer \u001b[39m|\u001b[39m ExcelWriter,\n\u001b[0;32m   (...)\u001b[0m\n\u001b[1;32m     54\u001b[0m ) \u001b[39m-\u001b[39m\u001b[39m>\u001b[39m \u001b[39mNone\u001b[39;00m:\n\u001b[1;32m     55\u001b[0m     \u001b[39m# Use the openpyxl module as the Excel writer.\u001b[39;00m\n\u001b[0;32m---> 56\u001b[0m     \u001b[39mfrom\u001b[39;00m \u001b[39mopenpyxl\u001b[39;00m\u001b[39m.\u001b[39;00m\u001b[39mworkbook\u001b[39;00m \u001b[39mimport\u001b[39;00m Workbook\n\u001b[1;32m     58\u001b[0m     engine_kwargs \u001b[39m=\u001b[39m combine_kwargs(engine_kwargs, kwargs)\n\u001b[1;32m     60\u001b[0m     \u001b[39msuper\u001b[39m()\u001b[39m.\u001b[39m\u001b[39m__init__\u001b[39m(\n\u001b[1;32m     61\u001b[0m         path,\n\u001b[1;32m     62\u001b[0m         mode\u001b[39m=\u001b[39mmode,\n\u001b[0;32m   (...)\u001b[0m\n\u001b[1;32m     65\u001b[0m         engine_kwargs\u001b[39m=\u001b[39mengine_kwargs,\n\u001b[1;32m     66\u001b[0m     )\n",
            "\u001b[0;31mModuleNotFoundError\u001b[0m: No module named 'openpyxl'"
          ]
        }
      ],
      "source": [
        "df_result = pd.DataFrame({\n",
        "    \"ID number\":df_pred[\"ID number\"],\n",
        "    \"prediction\":y_pred,\n",
        "    \"probability\":y_proba.max(axis=1).round(4)\n",
        "})\n",
        "\n",
        "df_result.to_excel(\"breast_cancer_prediction.xlsx\")"
      ]
    },
    {
      "cell_type": "code",
      "execution_count": null,
      "metadata": {},
      "outputs": [],
      "source": []
    }
  ],
  "metadata": {
    "colab": {
      "authorship_tag": "ABX9TyMV9qjKug6llhCqVBfiyEEU",
      "include_colab_link": true,
      "name": "binary_classification_exercise",
      "provenance": []
    },
    "kernelspec": {
      "display_name": "Python 3",
      "name": "python3"
    },
    "language_info": {
      "codemirror_mode": {
        "name": "ipython",
        "version": 3
      },
      "file_extension": ".py",
      "mimetype": "text/x-python",
      "name": "python",
      "nbconvert_exporter": "python",
      "pygments_lexer": "ipython3",
      "version": "3.11.0"
    }
  },
  "nbformat": 4,
  "nbformat_minor": 0
}
