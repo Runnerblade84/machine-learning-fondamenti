{
 "cells": [
  {
   "cell_type": "markdown",
   "id": "b939ed0d",
   "metadata": {},
   "source": [
    "# Data Preprocessing: Esercitazione\n",
    "\n",
    "Per questo esercizio dovrai pulire e processare il Boston Housing Dataset, un dataset contenente diverse informazioni relative alle abitazione nell'area di Boston. Puoi scaricare il dataset [da qui](https://raw.githubusercontent.com/ProfAI/machine-learning-fondamenti/main/datasets/housing_dirty.csv).\n",
    "\n",
    "Il dataset contiene le seguenti informazioni\n",
    "\n",
    "1. **CRIM** Tasso di criminalità per capita\n",
    "2. **ZN** Percentuale di terreni residenziali suddivisi in zone per lotti superiori a 25.000 sq.ft.\n",
    "3. **INDUS** Percentuale di ettari di attività non al dettaglio per città.\n",
    "4. **CHAS** Variabile dummy che indica la prossimità al fiume Charles.\n",
    "5. **NOX** Concentrazione di ossido d'azoto (parti per 10 milioni).\n",
    "6. **RM** Numero medio di stanze per abitazione\n",
    "7. **AGE** Percentuale di abitazione occupate costruite dopo il 1940\n",
    "8. **DIS** Media pesata delle distanze da 5 centri lavorativi di Boston.\n",
    "9. **RAD** Indice di accessibilità ad autostrade\n",
    "10. **TAX** Aliquota dell'imposta sulla proprietà a valore pieno in 10.000 USD.\n",
    "11. **PRATIO** Rapporto studente-insegnante per città.\n",
    "12. **BLACK** 1000(Bk - 0.63)^2 dove Bk è la percentuale di abitanti di colore per città\n",
    "13. **LSTAT** Percentuale della popolazione povera\n",
    "14. **PRICE** Mediana del valore di abitazioni occupate in 1.000 USD.\n",
    "\n",
    "Nello specifico, devi risolvere i seguenti punti:\n",
    "1. Verifica il numero di righe e colonne del dataset\n",
    "2. Verifica la tipologia di ogni variabile\n",
    "3. Verifica il numero di valori mancanti per ogni colonna\n",
    "4. Rimuovi eventualmente le colonne con oltre il 30% di valori mancanti\n",
    "5. Rimuovi eventualmente le righe con oltre il 25% di valori mancanti\n",
    "6. Rimuovi tutte le righe dove PRICE è mancante\n",
    "7. Esegui l'imputazione con valore medio per i restanti valori mancanti quantitativi\n",
    "8. Esegui la codifica di eventuali variabili qualitative\n",
    "9. Esegui l'imputazione con moda per i restanti valori mancanti qualitativi\n",
    "10. Esegui la standardizzazione\n",
    "11. Salva il nuovo dataframe in un tsv chiamato \"housing_clean.tsv\""
   ]
  },
  {
   "cell_type": "markdown",
   "id": "bfa0ef97",
   "metadata": {},
   "source": [
    "### Soluzione"
   ]
  },
  {
   "cell_type": "code",
   "execution_count": 157,
   "id": "7bca6e8d",
   "metadata": {},
   "outputs": [
    {
     "data": {
      "text/html": [
       "<div>\n",
       "<style scoped>\n",
       "    .dataframe tbody tr th:only-of-type {\n",
       "        vertical-align: middle;\n",
       "    }\n",
       "\n",
       "    .dataframe tbody tr th {\n",
       "        vertical-align: top;\n",
       "    }\n",
       "\n",
       "    .dataframe thead th {\n",
       "        text-align: right;\n",
       "    }\n",
       "</style>\n",
       "<table border=\"1\" class=\"dataframe\">\n",
       "  <thead>\n",
       "    <tr style=\"text-align: right;\">\n",
       "      <th></th>\n",
       "      <th>CRIM</th>\n",
       "      <th>ZN</th>\n",
       "      <th>INDUS</th>\n",
       "      <th>CHAS</th>\n",
       "      <th>NOX</th>\n",
       "      <th>RM</th>\n",
       "      <th>AGE</th>\n",
       "      <th>DIS</th>\n",
       "      <th>RAD</th>\n",
       "      <th>TAX</th>\n",
       "      <th>PTRATIO</th>\n",
       "      <th>B</th>\n",
       "      <th>LSTAT</th>\n",
       "      <th>PRICE</th>\n",
       "    </tr>\n",
       "  </thead>\n",
       "  <tbody>\n",
       "    <tr>\n",
       "      <th>0.0</th>\n",
       "      <td>LOW</td>\n",
       "      <td>18.0</td>\n",
       "      <td>2.31</td>\n",
       "      <td>NO</td>\n",
       "      <td>538.0</td>\n",
       "      <td>6575.0</td>\n",
       "      <td>65.2</td>\n",
       "      <td>4.0900</td>\n",
       "      <td>1.0</td>\n",
       "      <td>296.0</td>\n",
       "      <td>15.3</td>\n",
       "      <td>396.90</td>\n",
       "      <td>4.98</td>\n",
       "      <td>24.0</td>\n",
       "    </tr>\n",
       "    <tr>\n",
       "      <th>1.0</th>\n",
       "      <td>LOW</td>\n",
       "      <td>0.0</td>\n",
       "      <td>7.07</td>\n",
       "      <td>NO</td>\n",
       "      <td>469.0</td>\n",
       "      <td>6421.0</td>\n",
       "      <td>78.9</td>\n",
       "      <td>4.9671</td>\n",
       "      <td>2.0</td>\n",
       "      <td>242.0</td>\n",
       "      <td>17.8</td>\n",
       "      <td>396.90</td>\n",
       "      <td>9.14</td>\n",
       "      <td>21.6</td>\n",
       "    </tr>\n",
       "    <tr>\n",
       "      <th>2.0</th>\n",
       "      <td>LOW</td>\n",
       "      <td>0.0</td>\n",
       "      <td>7.07</td>\n",
       "      <td>NO</td>\n",
       "      <td>469.0</td>\n",
       "      <td>7185.0</td>\n",
       "      <td>61.1</td>\n",
       "      <td>4.9671</td>\n",
       "      <td>2.0</td>\n",
       "      <td>242.0</td>\n",
       "      <td>17.8</td>\n",
       "      <td>392.83</td>\n",
       "      <td>4.03</td>\n",
       "      <td>34.7</td>\n",
       "    </tr>\n",
       "    <tr>\n",
       "      <th>3.0</th>\n",
       "      <td>LOW</td>\n",
       "      <td>0.0</td>\n",
       "      <td>2.18</td>\n",
       "      <td>NO</td>\n",
       "      <td>458.0</td>\n",
       "      <td>6998.0</td>\n",
       "      <td>45.8</td>\n",
       "      <td>6.0622</td>\n",
       "      <td>3.0</td>\n",
       "      <td>222.0</td>\n",
       "      <td>18.7</td>\n",
       "      <td>394.63</td>\n",
       "      <td>2.94</td>\n",
       "      <td>33.4</td>\n",
       "    </tr>\n",
       "    <tr>\n",
       "      <th>4.0</th>\n",
       "      <td>LOW</td>\n",
       "      <td>0.0</td>\n",
       "      <td>2.18</td>\n",
       "      <td>NO</td>\n",
       "      <td>458.0</td>\n",
       "      <td>7147.0</td>\n",
       "      <td>54.2</td>\n",
       "      <td>6.0622</td>\n",
       "      <td>3.0</td>\n",
       "      <td>222.0</td>\n",
       "      <td>18.7</td>\n",
       "      <td>396.90</td>\n",
       "      <td>NaN</td>\n",
       "      <td>36.2</td>\n",
       "    </tr>\n",
       "  </tbody>\n",
       "</table>\n",
       "</div>"
      ],
      "text/plain": [
       "    CRIM    ZN  INDUS CHAS    NOX      RM   AGE     DIS  RAD    TAX  PTRATIO  \\\n",
       "0.0  LOW  18.0   2.31   NO  538.0  6575.0  65.2  4.0900  1.0  296.0     15.3   \n",
       "1.0  LOW   0.0   7.07   NO  469.0  6421.0  78.9  4.9671  2.0  242.0     17.8   \n",
       "2.0  LOW   0.0   7.07   NO  469.0  7185.0  61.1  4.9671  2.0  242.0     17.8   \n",
       "3.0  LOW   0.0   2.18   NO  458.0  6998.0  45.8  6.0622  3.0  222.0     18.7   \n",
       "4.0  LOW   0.0   2.18   NO  458.0  7147.0  54.2  6.0622  3.0  222.0     18.7   \n",
       "\n",
       "          B  LSTAT  PRICE  \n",
       "0.0  396.90   4.98   24.0  \n",
       "1.0  396.90   9.14   21.6  \n",
       "2.0  392.83   4.03   34.7  \n",
       "3.0  394.63   2.94   33.4  \n",
       "4.0  396.90    NaN   36.2  "
      ]
     },
     "execution_count": 157,
     "metadata": {},
     "output_type": "execute_result"
    }
   ],
   "source": [
    "import pandas as pd\n",
    "df = pd.read_csv(\"../datasets/housing_dirty.csv\", index_col=0)\n",
    "df.head()"
   ]
  },
  {
   "cell_type": "markdown",
   "id": "f3a15dbe",
   "metadata": {},
   "source": [
    "### 1. Verifica il numero di righe e colonne nel dataset"
   ]
  },
  {
   "cell_type": "code",
   "execution_count": 158,
   "id": "53ca1519",
   "metadata": {},
   "outputs": [
    {
     "data": {
      "text/plain": [
       "(506, 14)"
      ]
     },
     "execution_count": 158,
     "metadata": {},
     "output_type": "execute_result"
    }
   ],
   "source": [
    "df.shape"
   ]
  },
  {
   "cell_type": "markdown",
   "id": "6e8e4c60",
   "metadata": {},
   "source": [
    "### 2. Verifica la tipologia di ogni variabile"
   ]
  },
  {
   "cell_type": "code",
   "execution_count": 159,
   "id": "2bf37116",
   "metadata": {},
   "outputs": [
    {
     "name": "stdout",
     "output_type": "stream",
     "text": [
      "<class 'pandas.core.frame.DataFrame'>\n",
      "Float64Index: 506 entries, 0.0 to 505.0\n",
      "Data columns (total 14 columns):\n",
      " #   Column   Non-Null Count  Dtype  \n",
      "---  ------   --------------  -----  \n",
      " 0   CRIM     506 non-null    object \n",
      " 1   ZN       504 non-null    float64\n",
      " 2   INDUS    503 non-null    float64\n",
      " 3   CHAS     506 non-null    object \n",
      " 4   NOX      499 non-null    float64\n",
      " 5   RM       501 non-null    float64\n",
      " 6   AGE      502 non-null    float64\n",
      " 7   DIS      501 non-null    float64\n",
      " 8   RAD      503 non-null    float64\n",
      " 9   TAX      504 non-null    float64\n",
      " 10  PTRATIO  501 non-null    float64\n",
      " 11  B        503 non-null    float64\n",
      " 12  LSTAT    307 non-null    float64\n",
      " 13  PRICE    502 non-null    float64\n",
      "dtypes: float64(12), object(2)\n",
      "memory usage: 59.3+ KB\n"
     ]
    }
   ],
   "source": [
    "df.info()"
   ]
  },
  {
   "cell_type": "code",
   "execution_count": 160,
   "id": "a6f14969",
   "metadata": {},
   "outputs": [
    {
     "data": {
      "text/html": [
       "<div>\n",
       "<style scoped>\n",
       "    .dataframe tbody tr th:only-of-type {\n",
       "        vertical-align: middle;\n",
       "    }\n",
       "\n",
       "    .dataframe tbody tr th {\n",
       "        vertical-align: top;\n",
       "    }\n",
       "\n",
       "    .dataframe thead th {\n",
       "        text-align: right;\n",
       "    }\n",
       "</style>\n",
       "<table border=\"1\" class=\"dataframe\">\n",
       "  <thead>\n",
       "    <tr style=\"text-align: right;\">\n",
       "      <th></th>\n",
       "      <th>ZN</th>\n",
       "      <th>INDUS</th>\n",
       "      <th>NOX</th>\n",
       "      <th>RM</th>\n",
       "      <th>AGE</th>\n",
       "      <th>DIS</th>\n",
       "      <th>RAD</th>\n",
       "      <th>TAX</th>\n",
       "      <th>PTRATIO</th>\n",
       "      <th>B</th>\n",
       "      <th>LSTAT</th>\n",
       "      <th>PRICE</th>\n",
       "    </tr>\n",
       "  </thead>\n",
       "  <tbody>\n",
       "    <tr>\n",
       "      <th>count</th>\n",
       "      <td>504.000000</td>\n",
       "      <td>503.000000</td>\n",
       "      <td>499.000000</td>\n",
       "      <td>501.000000</td>\n",
       "      <td>502.000000</td>\n",
       "      <td>501.000000</td>\n",
       "      <td>503.000000</td>\n",
       "      <td>504.000000</td>\n",
       "      <td>501.000000</td>\n",
       "      <td>503.000000</td>\n",
       "      <td>307.000000</td>\n",
       "      <td>502.000000</td>\n",
       "    </tr>\n",
       "    <tr>\n",
       "      <th>mean</th>\n",
       "      <td>11.359127</td>\n",
       "      <td>11.165169</td>\n",
       "      <td>464.341474</td>\n",
       "      <td>5635.118064</td>\n",
       "      <td>68.514741</td>\n",
       "      <td>380.588031</td>\n",
       "      <td>9.574553</td>\n",
       "      <td>408.380952</td>\n",
       "      <td>18.463673</td>\n",
       "      <td>356.732127</td>\n",
       "      <td>12.360521</td>\n",
       "      <td>22.479482</td>\n",
       "    </tr>\n",
       "    <tr>\n",
       "      <th>std</th>\n",
       "      <td>23.355367</td>\n",
       "      <td>6.870201</td>\n",
       "      <td>223.653453</td>\n",
       "      <td>2007.343355</td>\n",
       "      <td>28.180007</td>\n",
       "      <td>1273.597641</td>\n",
       "      <td>8.725901</td>\n",
       "      <td>168.806575</td>\n",
       "      <td>2.151734</td>\n",
       "      <td>91.405284</td>\n",
       "      <td>7.307171</td>\n",
       "      <td>9.159295</td>\n",
       "    </tr>\n",
       "    <tr>\n",
       "      <th>min</th>\n",
       "      <td>0.000000</td>\n",
       "      <td>0.460000</td>\n",
       "      <td>0.400000</td>\n",
       "      <td>4.880000</td>\n",
       "      <td>2.900000</td>\n",
       "      <td>1.129600</td>\n",
       "      <td>1.000000</td>\n",
       "      <td>187.000000</td>\n",
       "      <td>12.600000</td>\n",
       "      <td>0.320000</td>\n",
       "      <td>1.730000</td>\n",
       "      <td>5.000000</td>\n",
       "    </tr>\n",
       "    <tr>\n",
       "      <th>25%</th>\n",
       "      <td>0.000000</td>\n",
       "      <td>5.190000</td>\n",
       "      <td>428.000000</td>\n",
       "      <td>5757.000000</td>\n",
       "      <td>45.025000</td>\n",
       "      <td>2.118500</td>\n",
       "      <td>4.000000</td>\n",
       "      <td>279.000000</td>\n",
       "      <td>17.400000</td>\n",
       "      <td>375.425000</td>\n",
       "      <td>6.545000</td>\n",
       "      <td>16.850000</td>\n",
       "    </tr>\n",
       "    <tr>\n",
       "      <th>50%</th>\n",
       "      <td>0.000000</td>\n",
       "      <td>9.690000</td>\n",
       "      <td>504.000000</td>\n",
       "      <td>6129.000000</td>\n",
       "      <td>77.500000</td>\n",
       "      <td>3.495200</td>\n",
       "      <td>5.000000</td>\n",
       "      <td>330.000000</td>\n",
       "      <td>19.100000</td>\n",
       "      <td>391.430000</td>\n",
       "      <td>10.590000</td>\n",
       "      <td>21.200000</td>\n",
       "    </tr>\n",
       "    <tr>\n",
       "      <th>75%</th>\n",
       "      <td>12.500000</td>\n",
       "      <td>18.100000</td>\n",
       "      <td>605.000000</td>\n",
       "      <td>6545.000000</td>\n",
       "      <td>93.975000</td>\n",
       "      <td>6.062200</td>\n",
       "      <td>24.000000</td>\n",
       "      <td>666.000000</td>\n",
       "      <td>20.200000</td>\n",
       "      <td>396.220000</td>\n",
       "      <td>17.025000</td>\n",
       "      <td>25.000000</td>\n",
       "    </tr>\n",
       "    <tr>\n",
       "      <th>max</th>\n",
       "      <td>100.000000</td>\n",
       "      <td>27.740000</td>\n",
       "      <td>871.000000</td>\n",
       "      <td>8725.000000</td>\n",
       "      <td>100.000000</td>\n",
       "      <td>8344.000000</td>\n",
       "      <td>24.000000</td>\n",
       "      <td>711.000000</td>\n",
       "      <td>22.000000</td>\n",
       "      <td>396.900000</td>\n",
       "      <td>36.980000</td>\n",
       "      <td>50.000000</td>\n",
       "    </tr>\n",
       "  </tbody>\n",
       "</table>\n",
       "</div>"
      ],
      "text/plain": [
       "               ZN       INDUS         NOX           RM         AGE  \\\n",
       "count  504.000000  503.000000  499.000000   501.000000  502.000000   \n",
       "mean    11.359127   11.165169  464.341474  5635.118064   68.514741   \n",
       "std     23.355367    6.870201  223.653453  2007.343355   28.180007   \n",
       "min      0.000000    0.460000    0.400000     4.880000    2.900000   \n",
       "25%      0.000000    5.190000  428.000000  5757.000000   45.025000   \n",
       "50%      0.000000    9.690000  504.000000  6129.000000   77.500000   \n",
       "75%     12.500000   18.100000  605.000000  6545.000000   93.975000   \n",
       "max    100.000000   27.740000  871.000000  8725.000000  100.000000   \n",
       "\n",
       "               DIS         RAD         TAX     PTRATIO           B  \\\n",
       "count   501.000000  503.000000  504.000000  501.000000  503.000000   \n",
       "mean    380.588031    9.574553  408.380952   18.463673  356.732127   \n",
       "std    1273.597641    8.725901  168.806575    2.151734   91.405284   \n",
       "min       1.129600    1.000000  187.000000   12.600000    0.320000   \n",
       "25%       2.118500    4.000000  279.000000   17.400000  375.425000   \n",
       "50%       3.495200    5.000000  330.000000   19.100000  391.430000   \n",
       "75%       6.062200   24.000000  666.000000   20.200000  396.220000   \n",
       "max    8344.000000   24.000000  711.000000   22.000000  396.900000   \n",
       "\n",
       "            LSTAT       PRICE  \n",
       "count  307.000000  502.000000  \n",
       "mean    12.360521   22.479482  \n",
       "std      7.307171    9.159295  \n",
       "min      1.730000    5.000000  \n",
       "25%      6.545000   16.850000  \n",
       "50%     10.590000   21.200000  \n",
       "75%     17.025000   25.000000  \n",
       "max     36.980000   50.000000  "
      ]
     },
     "execution_count": 160,
     "metadata": {},
     "output_type": "execute_result"
    }
   ],
   "source": [
    "df.describe()"
   ]
  },
  {
   "cell_type": "code",
   "execution_count": 161,
   "id": "4f2e1a11",
   "metadata": {},
   "outputs": [
    {
     "data": {
      "text/plain": [
       "HIGH         130\n",
       "LOW          127\n",
       "VERY HIGH    127\n",
       "MODERATE     122\n",
       "Name: CRIM, dtype: int64"
      ]
     },
     "execution_count": 161,
     "metadata": {},
     "output_type": "execute_result"
    }
   ],
   "source": [
    "df[\"CRIM\"].value_counts()"
   ]
  },
  {
   "cell_type": "code",
   "execution_count": 162,
   "id": "3e770c8e",
   "metadata": {},
   "outputs": [
    {
     "data": {
      "text/plain": [
       "NO     471\n",
       "YES     35\n",
       "Name: CHAS, dtype: int64"
      ]
     },
     "execution_count": 162,
     "metadata": {},
     "output_type": "execute_result"
    }
   ],
   "source": [
    "df[\"CHAS\"].value_counts()"
   ]
  },
  {
   "cell_type": "markdown",
   "id": "66d5138a",
   "metadata": {},
   "source": [
    "### 3. Verifica il numero di valori mancanti per ogni colonna"
   ]
  },
  {
   "cell_type": "code",
   "execution_count": 163,
   "id": "7c24ca08",
   "metadata": {},
   "outputs": [
    {
     "data": {
      "text/plain": [
       "CRIM       506\n",
       "ZN         504\n",
       "INDUS      503\n",
       "CHAS       506\n",
       "NOX        499\n",
       "RM         501\n",
       "AGE        502\n",
       "DIS        501\n",
       "RAD        503\n",
       "TAX        504\n",
       "PTRATIO    501\n",
       "B          503\n",
       "LSTAT      307\n",
       "PRICE      502\n",
       "dtype: int64"
      ]
     },
     "execution_count": 163,
     "metadata": {},
     "output_type": "execute_result"
    }
   ],
   "source": [
    "df.count()"
   ]
  },
  {
   "cell_type": "markdown",
   "id": "22bf52be",
   "metadata": {},
   "source": [
    "### 4. Rimuovi eventualmente le colonne con oltre il 30% di valori mancanti"
   ]
  },
  {
   "cell_type": "code",
   "execution_count": 164,
   "id": "ac8ea97d",
   "metadata": {},
   "outputs": [
    {
     "data": {
      "text/plain": [
       "CRIM       False\n",
       "ZN         False\n",
       "INDUS      False\n",
       "CHAS       False\n",
       "NOX        False\n",
       "RM         False\n",
       "AGE        False\n",
       "DIS        False\n",
       "RAD        False\n",
       "TAX        False\n",
       "PTRATIO    False\n",
       "B          False\n",
       "LSTAT       True\n",
       "PRICE      False\n",
       "dtype: bool"
      ]
     },
     "execution_count": 164,
     "metadata": {},
     "output_type": "execute_result"
    }
   ],
   "source": [
    "df.count()<df.shape[0]*0.7"
   ]
  },
  {
   "cell_type": "code",
   "execution_count": 165,
   "id": "44fa327c",
   "metadata": {},
   "outputs": [
    {
     "data": {
      "text/html": [
       "<div>\n",
       "<style scoped>\n",
       "    .dataframe tbody tr th:only-of-type {\n",
       "        vertical-align: middle;\n",
       "    }\n",
       "\n",
       "    .dataframe tbody tr th {\n",
       "        vertical-align: top;\n",
       "    }\n",
       "\n",
       "    .dataframe thead th {\n",
       "        text-align: right;\n",
       "    }\n",
       "</style>\n",
       "<table border=\"1\" class=\"dataframe\">\n",
       "  <thead>\n",
       "    <tr style=\"text-align: right;\">\n",
       "      <th></th>\n",
       "      <th>CRIM</th>\n",
       "      <th>ZN</th>\n",
       "      <th>INDUS</th>\n",
       "      <th>CHAS</th>\n",
       "      <th>NOX</th>\n",
       "      <th>RM</th>\n",
       "      <th>AGE</th>\n",
       "      <th>DIS</th>\n",
       "      <th>RAD</th>\n",
       "      <th>TAX</th>\n",
       "      <th>PTRATIO</th>\n",
       "      <th>B</th>\n",
       "      <th>PRICE</th>\n",
       "    </tr>\n",
       "  </thead>\n",
       "  <tbody>\n",
       "    <tr>\n",
       "      <th>0.0</th>\n",
       "      <td>LOW</td>\n",
       "      <td>18.0</td>\n",
       "      <td>2.31</td>\n",
       "      <td>NO</td>\n",
       "      <td>538.0</td>\n",
       "      <td>6575.0</td>\n",
       "      <td>65.2</td>\n",
       "      <td>4.0900</td>\n",
       "      <td>1.0</td>\n",
       "      <td>296.0</td>\n",
       "      <td>15.3</td>\n",
       "      <td>396.90</td>\n",
       "      <td>24.0</td>\n",
       "    </tr>\n",
       "    <tr>\n",
       "      <th>1.0</th>\n",
       "      <td>LOW</td>\n",
       "      <td>0.0</td>\n",
       "      <td>7.07</td>\n",
       "      <td>NO</td>\n",
       "      <td>469.0</td>\n",
       "      <td>6421.0</td>\n",
       "      <td>78.9</td>\n",
       "      <td>4.9671</td>\n",
       "      <td>2.0</td>\n",
       "      <td>242.0</td>\n",
       "      <td>17.8</td>\n",
       "      <td>396.90</td>\n",
       "      <td>21.6</td>\n",
       "    </tr>\n",
       "    <tr>\n",
       "      <th>2.0</th>\n",
       "      <td>LOW</td>\n",
       "      <td>0.0</td>\n",
       "      <td>7.07</td>\n",
       "      <td>NO</td>\n",
       "      <td>469.0</td>\n",
       "      <td>7185.0</td>\n",
       "      <td>61.1</td>\n",
       "      <td>4.9671</td>\n",
       "      <td>2.0</td>\n",
       "      <td>242.0</td>\n",
       "      <td>17.8</td>\n",
       "      <td>392.83</td>\n",
       "      <td>34.7</td>\n",
       "    </tr>\n",
       "    <tr>\n",
       "      <th>3.0</th>\n",
       "      <td>LOW</td>\n",
       "      <td>0.0</td>\n",
       "      <td>2.18</td>\n",
       "      <td>NO</td>\n",
       "      <td>458.0</td>\n",
       "      <td>6998.0</td>\n",
       "      <td>45.8</td>\n",
       "      <td>6.0622</td>\n",
       "      <td>3.0</td>\n",
       "      <td>222.0</td>\n",
       "      <td>18.7</td>\n",
       "      <td>394.63</td>\n",
       "      <td>33.4</td>\n",
       "    </tr>\n",
       "    <tr>\n",
       "      <th>4.0</th>\n",
       "      <td>LOW</td>\n",
       "      <td>0.0</td>\n",
       "      <td>2.18</td>\n",
       "      <td>NO</td>\n",
       "      <td>458.0</td>\n",
       "      <td>7147.0</td>\n",
       "      <td>54.2</td>\n",
       "      <td>6.0622</td>\n",
       "      <td>3.0</td>\n",
       "      <td>222.0</td>\n",
       "      <td>18.7</td>\n",
       "      <td>396.90</td>\n",
       "      <td>36.2</td>\n",
       "    </tr>\n",
       "  </tbody>\n",
       "</table>\n",
       "</div>"
      ],
      "text/plain": [
       "    CRIM    ZN  INDUS CHAS    NOX      RM   AGE     DIS  RAD    TAX  PTRATIO  \\\n",
       "0.0  LOW  18.0   2.31   NO  538.0  6575.0  65.2  4.0900  1.0  296.0     15.3   \n",
       "1.0  LOW   0.0   7.07   NO  469.0  6421.0  78.9  4.9671  2.0  242.0     17.8   \n",
       "2.0  LOW   0.0   7.07   NO  469.0  7185.0  61.1  4.9671  2.0  242.0     17.8   \n",
       "3.0  LOW   0.0   2.18   NO  458.0  6998.0  45.8  6.0622  3.0  222.0     18.7   \n",
       "4.0  LOW   0.0   2.18   NO  458.0  7147.0  54.2  6.0622  3.0  222.0     18.7   \n",
       "\n",
       "          B  PRICE  \n",
       "0.0  396.90   24.0  \n",
       "1.0  396.90   21.6  \n",
       "2.0  392.83   34.7  \n",
       "3.0  394.63   33.4  \n",
       "4.0  396.90   36.2  "
      ]
     },
     "execution_count": 165,
     "metadata": {},
     "output_type": "execute_result"
    }
   ],
   "source": [
    "df = df.drop(\"LSTAT\", axis=1)\n",
    "df.head()"
   ]
  },
  {
   "cell_type": "markdown",
   "id": "22b94ff9",
   "metadata": {},
   "source": [
    "### 5. Rimuovi eventualmente le righe con oltre il 25% di valori mancanti"
   ]
  },
  {
   "cell_type": "code",
   "execution_count": 166,
   "id": "e2674928",
   "metadata": {},
   "outputs": [
    {
     "data": {
      "text/plain": [
       "14.0     4\n",
       "34.0     7\n",
       "63.0     7\n",
       "131.0    7\n",
       "234.0    4\n",
       "dtype: int64"
      ]
     },
     "execution_count": 166,
     "metadata": {},
     "output_type": "execute_result"
    }
   ],
   "source": [
    "row_na = df.isna().sum(axis=1)\n",
    "row_na = row_na[row_na>df.shape[1]*0.25] \n",
    "row_na"
   ]
  },
  {
   "cell_type": "code",
   "execution_count": 167,
   "id": "f0a91357",
   "metadata": {},
   "outputs": [
    {
     "data": {
      "text/plain": [
       "(501, 13)"
      ]
     },
     "execution_count": 167,
     "metadata": {},
     "output_type": "execute_result"
    }
   ],
   "source": [
    "to_remove = row_na.index.values\n",
    "df = df.drop(to_remove)\n",
    "df.shape"
   ]
  },
  {
   "cell_type": "markdown",
   "id": "0e1c3bbb",
   "metadata": {},
   "source": [
    "### 6. Rimuovi tutte le righe dove MEDV è mancante"
   ]
  },
  {
   "cell_type": "code",
   "execution_count": 168,
   "id": "0941d94f",
   "metadata": {},
   "outputs": [
    {
     "data": {
      "text/plain": [
       "117.0    True\n",
       "165.0    True\n",
       "206.0    True\n",
       "233.0    True\n",
       "Name: PRICE, dtype: bool"
      ]
     },
     "execution_count": 168,
     "metadata": {},
     "output_type": "execute_result"
    }
   ],
   "source": [
    "row_price_na = df[\"PRICE\"].isna()\n",
    "row_price_na = row_price_na[row_price_na>0] \n",
    "row_price_na"
   ]
  },
  {
   "cell_type": "code",
   "execution_count": 169,
   "id": "0ae5b7a2",
   "metadata": {},
   "outputs": [
    {
     "data": {
      "text/plain": [
       "(497, 13)"
      ]
     },
     "execution_count": 169,
     "metadata": {},
     "output_type": "execute_result"
    }
   ],
   "source": [
    "to_remove = row_price_na.index.values\n",
    "df = df.drop(to_remove)\n",
    "df.shape"
   ]
  },
  {
   "cell_type": "markdown",
   "id": "8c1990f4",
   "metadata": {},
   "source": [
    "### 7. Esegui l'imputazione con valore medio per i restanti valori mancanti quantitativi"
   ]
  },
  {
   "cell_type": "code",
   "execution_count": 170,
   "id": "8d04c901",
   "metadata": {},
   "outputs": [
    {
     "data": {
      "text/plain": [
       "Index(['ZN', 'INDUS', 'NOX', 'RM', 'AGE', 'DIS', 'RAD', 'TAX', 'PTRATIO', 'B',\n",
       "       'PRICE'],\n",
       "      dtype='object')"
      ]
     },
     "execution_count": 170,
     "metadata": {},
     "output_type": "execute_result"
    }
   ],
   "source": [
    "cols = df.columns\n",
    "cols = cols.drop([\"CRIM\", \"CHAS\"])\n",
    "cols"
   ]
  },
  {
   "cell_type": "code",
   "execution_count": 171,
   "id": "57eb8b8c",
   "metadata": {},
   "outputs": [
    {
     "data": {
      "text/plain": [
       "0"
      ]
     },
     "execution_count": 171,
     "metadata": {},
     "output_type": "execute_result"
    }
   ],
   "source": [
    "replace_with = df[cols].mean().round(2)\n",
    "df[cols] = df[cols].fillna(replace_with)\n",
    "na_count = df[cols].isna().sum().sum()\n",
    "na_count"
   ]
  },
  {
   "cell_type": "markdown",
   "id": "dd1a7815",
   "metadata": {},
   "source": [
    "### 8. Esegui la codifica di eventuali variabili qualitative"
   ]
  },
  {
   "cell_type": "code",
   "execution_count": 172,
   "id": "0bbc3200",
   "metadata": {},
   "outputs": [
    {
     "data": {
      "text/html": [
       "<div>\n",
       "<style scoped>\n",
       "    .dataframe tbody tr th:only-of-type {\n",
       "        vertical-align: middle;\n",
       "    }\n",
       "\n",
       "    .dataframe tbody tr th {\n",
       "        vertical-align: top;\n",
       "    }\n",
       "\n",
       "    .dataframe thead th {\n",
       "        text-align: right;\n",
       "    }\n",
       "</style>\n",
       "<table border=\"1\" class=\"dataframe\">\n",
       "  <thead>\n",
       "    <tr style=\"text-align: right;\">\n",
       "      <th></th>\n",
       "      <th>CRIM</th>\n",
       "      <th>ZN</th>\n",
       "      <th>INDUS</th>\n",
       "      <th>CHAS</th>\n",
       "      <th>NOX</th>\n",
       "      <th>RM</th>\n",
       "      <th>AGE</th>\n",
       "      <th>DIS</th>\n",
       "      <th>RAD</th>\n",
       "      <th>TAX</th>\n",
       "      <th>PTRATIO</th>\n",
       "      <th>B</th>\n",
       "      <th>PRICE</th>\n",
       "    </tr>\n",
       "  </thead>\n",
       "  <tbody>\n",
       "    <tr>\n",
       "      <th>0.0</th>\n",
       "      <td>1</td>\n",
       "      <td>18.0</td>\n",
       "      <td>2.31</td>\n",
       "      <td>NO</td>\n",
       "      <td>538.0</td>\n",
       "      <td>6575.0</td>\n",
       "      <td>65.2</td>\n",
       "      <td>4.0900</td>\n",
       "      <td>1.0</td>\n",
       "      <td>296.0</td>\n",
       "      <td>15.3</td>\n",
       "      <td>396.90</td>\n",
       "      <td>24.0</td>\n",
       "    </tr>\n",
       "    <tr>\n",
       "      <th>1.0</th>\n",
       "      <td>1</td>\n",
       "      <td>0.0</td>\n",
       "      <td>7.07</td>\n",
       "      <td>NO</td>\n",
       "      <td>469.0</td>\n",
       "      <td>6421.0</td>\n",
       "      <td>78.9</td>\n",
       "      <td>4.9671</td>\n",
       "      <td>2.0</td>\n",
       "      <td>242.0</td>\n",
       "      <td>17.8</td>\n",
       "      <td>396.90</td>\n",
       "      <td>21.6</td>\n",
       "    </tr>\n",
       "    <tr>\n",
       "      <th>2.0</th>\n",
       "      <td>1</td>\n",
       "      <td>0.0</td>\n",
       "      <td>7.07</td>\n",
       "      <td>NO</td>\n",
       "      <td>469.0</td>\n",
       "      <td>7185.0</td>\n",
       "      <td>61.1</td>\n",
       "      <td>4.9671</td>\n",
       "      <td>2.0</td>\n",
       "      <td>242.0</td>\n",
       "      <td>17.8</td>\n",
       "      <td>392.83</td>\n",
       "      <td>34.7</td>\n",
       "    </tr>\n",
       "    <tr>\n",
       "      <th>3.0</th>\n",
       "      <td>1</td>\n",
       "      <td>0.0</td>\n",
       "      <td>2.18</td>\n",
       "      <td>NO</td>\n",
       "      <td>458.0</td>\n",
       "      <td>6998.0</td>\n",
       "      <td>45.8</td>\n",
       "      <td>6.0622</td>\n",
       "      <td>3.0</td>\n",
       "      <td>222.0</td>\n",
       "      <td>18.7</td>\n",
       "      <td>394.63</td>\n",
       "      <td>33.4</td>\n",
       "    </tr>\n",
       "    <tr>\n",
       "      <th>4.0</th>\n",
       "      <td>1</td>\n",
       "      <td>0.0</td>\n",
       "      <td>2.18</td>\n",
       "      <td>NO</td>\n",
       "      <td>458.0</td>\n",
       "      <td>7147.0</td>\n",
       "      <td>54.2</td>\n",
       "      <td>6.0622</td>\n",
       "      <td>3.0</td>\n",
       "      <td>222.0</td>\n",
       "      <td>18.7</td>\n",
       "      <td>396.90</td>\n",
       "      <td>36.2</td>\n",
       "    </tr>\n",
       "  </tbody>\n",
       "</table>\n",
       "</div>"
      ],
      "text/plain": [
       "     CRIM    ZN  INDUS CHAS    NOX      RM   AGE     DIS  RAD    TAX  PTRATIO  \\\n",
       "0.0     1  18.0   2.31   NO  538.0  6575.0  65.2  4.0900  1.0  296.0     15.3   \n",
       "1.0     1   0.0   7.07   NO  469.0  6421.0  78.9  4.9671  2.0  242.0     17.8   \n",
       "2.0     1   0.0   7.07   NO  469.0  7185.0  61.1  4.9671  2.0  242.0     17.8   \n",
       "3.0     1   0.0   2.18   NO  458.0  6998.0  45.8  6.0622  3.0  222.0     18.7   \n",
       "4.0     1   0.0   2.18   NO  458.0  7147.0  54.2  6.0622  3.0  222.0     18.7   \n",
       "\n",
       "          B  PRICE  \n",
       "0.0  396.90   24.0  \n",
       "1.0  396.90   21.6  \n",
       "2.0  392.83   34.7  \n",
       "3.0  394.63   33.4  \n",
       "4.0  396.90   36.2  "
      ]
     },
     "execution_count": 172,
     "metadata": {},
     "output_type": "execute_result"
    }
   ],
   "source": [
    "mapping = {\"LOW\":1, \"MODERATE\":2, \"HIGH\":3, \"VERY HIGH\":4} \n",
    "df[\"CRIM\"] = df[\"CRIM\"].map(mapping)\n",
    "df.head()"
   ]
  },
  {
   "cell_type": "code",
   "execution_count": 173,
   "id": "a4184ec7",
   "metadata": {},
   "outputs": [
    {
     "data": {
      "text/html": [
       "<div>\n",
       "<style scoped>\n",
       "    .dataframe tbody tr th:only-of-type {\n",
       "        vertical-align: middle;\n",
       "    }\n",
       "\n",
       "    .dataframe tbody tr th {\n",
       "        vertical-align: top;\n",
       "    }\n",
       "\n",
       "    .dataframe thead th {\n",
       "        text-align: right;\n",
       "    }\n",
       "</style>\n",
       "<table border=\"1\" class=\"dataframe\">\n",
       "  <thead>\n",
       "    <tr style=\"text-align: right;\">\n",
       "      <th></th>\n",
       "      <th>CRIM</th>\n",
       "      <th>ZN</th>\n",
       "      <th>INDUS</th>\n",
       "      <th>CHAS</th>\n",
       "      <th>NOX</th>\n",
       "      <th>RM</th>\n",
       "      <th>AGE</th>\n",
       "      <th>DIS</th>\n",
       "      <th>RAD</th>\n",
       "      <th>TAX</th>\n",
       "      <th>PTRATIO</th>\n",
       "      <th>B</th>\n",
       "      <th>PRICE</th>\n",
       "    </tr>\n",
       "  </thead>\n",
       "  <tbody>\n",
       "    <tr>\n",
       "      <th>0.0</th>\n",
       "      <td>1</td>\n",
       "      <td>18.0</td>\n",
       "      <td>2.31</td>\n",
       "      <td>0</td>\n",
       "      <td>538.0</td>\n",
       "      <td>6575.0</td>\n",
       "      <td>65.2</td>\n",
       "      <td>4.0900</td>\n",
       "      <td>1.0</td>\n",
       "      <td>296.0</td>\n",
       "      <td>15.3</td>\n",
       "      <td>396.90</td>\n",
       "      <td>24.0</td>\n",
       "    </tr>\n",
       "    <tr>\n",
       "      <th>1.0</th>\n",
       "      <td>1</td>\n",
       "      <td>0.0</td>\n",
       "      <td>7.07</td>\n",
       "      <td>0</td>\n",
       "      <td>469.0</td>\n",
       "      <td>6421.0</td>\n",
       "      <td>78.9</td>\n",
       "      <td>4.9671</td>\n",
       "      <td>2.0</td>\n",
       "      <td>242.0</td>\n",
       "      <td>17.8</td>\n",
       "      <td>396.90</td>\n",
       "      <td>21.6</td>\n",
       "    </tr>\n",
       "    <tr>\n",
       "      <th>2.0</th>\n",
       "      <td>1</td>\n",
       "      <td>0.0</td>\n",
       "      <td>7.07</td>\n",
       "      <td>0</td>\n",
       "      <td>469.0</td>\n",
       "      <td>7185.0</td>\n",
       "      <td>61.1</td>\n",
       "      <td>4.9671</td>\n",
       "      <td>2.0</td>\n",
       "      <td>242.0</td>\n",
       "      <td>17.8</td>\n",
       "      <td>392.83</td>\n",
       "      <td>34.7</td>\n",
       "    </tr>\n",
       "    <tr>\n",
       "      <th>3.0</th>\n",
       "      <td>1</td>\n",
       "      <td>0.0</td>\n",
       "      <td>2.18</td>\n",
       "      <td>0</td>\n",
       "      <td>458.0</td>\n",
       "      <td>6998.0</td>\n",
       "      <td>45.8</td>\n",
       "      <td>6.0622</td>\n",
       "      <td>3.0</td>\n",
       "      <td>222.0</td>\n",
       "      <td>18.7</td>\n",
       "      <td>394.63</td>\n",
       "      <td>33.4</td>\n",
       "    </tr>\n",
       "    <tr>\n",
       "      <th>4.0</th>\n",
       "      <td>1</td>\n",
       "      <td>0.0</td>\n",
       "      <td>2.18</td>\n",
       "      <td>0</td>\n",
       "      <td>458.0</td>\n",
       "      <td>7147.0</td>\n",
       "      <td>54.2</td>\n",
       "      <td>6.0622</td>\n",
       "      <td>3.0</td>\n",
       "      <td>222.0</td>\n",
       "      <td>18.7</td>\n",
       "      <td>396.90</td>\n",
       "      <td>36.2</td>\n",
       "    </tr>\n",
       "  </tbody>\n",
       "</table>\n",
       "</div>"
      ],
      "text/plain": [
       "     CRIM    ZN  INDUS  CHAS    NOX      RM   AGE     DIS  RAD    TAX  \\\n",
       "0.0     1  18.0   2.31     0  538.0  6575.0  65.2  4.0900  1.0  296.0   \n",
       "1.0     1   0.0   7.07     0  469.0  6421.0  78.9  4.9671  2.0  242.0   \n",
       "2.0     1   0.0   7.07     0  469.0  7185.0  61.1  4.9671  2.0  242.0   \n",
       "3.0     1   0.0   2.18     0  458.0  6998.0  45.8  6.0622  3.0  222.0   \n",
       "4.0     1   0.0   2.18     0  458.0  7147.0  54.2  6.0622  3.0  222.0   \n",
       "\n",
       "     PTRATIO       B  PRICE  \n",
       "0.0     15.3  396.90   24.0  \n",
       "1.0     17.8  396.90   21.6  \n",
       "2.0     17.8  392.83   34.7  \n",
       "3.0     18.7  394.63   33.4  \n",
       "4.0     18.7  396.90   36.2  "
      ]
     },
     "execution_count": 173,
     "metadata": {},
     "output_type": "execute_result"
    }
   ],
   "source": [
    "mapping = {\"YES\":1, \"NO\":0} \n",
    "df[\"CHAS\"] = df[\"CHAS\"].map(mapping)\n",
    "df.head(5)"
   ]
  },
  {
   "cell_type": "markdown",
   "id": "d5a84fce",
   "metadata": {},
   "source": [
    "### 9. Esegui l'imputazione con moda per i restanti valori mancanti qualitativi"
   ]
  },
  {
   "cell_type": "code",
   "execution_count": 174,
   "id": "e5b8e732",
   "metadata": {},
   "outputs": [
    {
     "data": {
      "text/plain": [
       "0"
      ]
     },
     "execution_count": 174,
     "metadata": {},
     "output_type": "execute_result"
    }
   ],
   "source": [
    "cols = [\"CRIM\", \"CHAS\"]\n",
    "replace_with = df[cols].mode()\n",
    "df[cols] = df[cols].fillna(replace_with)\n",
    "na_count = df[cols].isna().sum().sum()\n",
    "na_count"
   ]
  },
  {
   "cell_type": "markdown",
   "id": "87674366",
   "metadata": {},
   "source": [
    " ### 10. Esegui la standardizzazione"
   ]
  },
  {
   "cell_type": "code",
   "execution_count": 175,
   "id": "d1f9dad3",
   "metadata": {},
   "outputs": [
    {
     "data": {
      "text/html": [
       "<div>\n",
       "<style scoped>\n",
       "    .dataframe tbody tr th:only-of-type {\n",
       "        vertical-align: middle;\n",
       "    }\n",
       "\n",
       "    .dataframe tbody tr th {\n",
       "        vertical-align: top;\n",
       "    }\n",
       "\n",
       "    .dataframe thead th {\n",
       "        text-align: right;\n",
       "    }\n",
       "</style>\n",
       "<table border=\"1\" class=\"dataframe\">\n",
       "  <thead>\n",
       "    <tr style=\"text-align: right;\">\n",
       "      <th></th>\n",
       "      <th>CRIM</th>\n",
       "      <th>ZN</th>\n",
       "      <th>INDUS</th>\n",
       "      <th>CHAS</th>\n",
       "      <th>NOX</th>\n",
       "      <th>RM</th>\n",
       "      <th>AGE</th>\n",
       "      <th>DIS</th>\n",
       "      <th>RAD</th>\n",
       "      <th>TAX</th>\n",
       "      <th>PTRATIO</th>\n",
       "      <th>B</th>\n",
       "      <th>PRICE</th>\n",
       "    </tr>\n",
       "  </thead>\n",
       "  <tbody>\n",
       "    <tr>\n",
       "      <th>0.0</th>\n",
       "      <td>-1.332248</td>\n",
       "      <td>0.276014</td>\n",
       "      <td>-1.286596</td>\n",
       "      <td>-0.270715</td>\n",
       "      <td>0.333828</td>\n",
       "      <td>0.471394</td>\n",
       "      <td>-0.114356</td>\n",
       "      <td>-0.297537</td>\n",
       "      <td>-0.983221</td>\n",
       "      <td>-0.669013</td>\n",
       "      <td>-1.474820</td>\n",
       "      <td>0.438845</td>\n",
       "      <td>0.163931</td>\n",
       "    </tr>\n",
       "    <tr>\n",
       "      <th>1.0</th>\n",
       "      <td>-1.332248</td>\n",
       "      <td>-0.490586</td>\n",
       "      <td>-0.594299</td>\n",
       "      <td>-0.270715</td>\n",
       "      <td>0.025561</td>\n",
       "      <td>0.394837</td>\n",
       "      <td>0.370174</td>\n",
       "      <td>-0.296851</td>\n",
       "      <td>-0.869154</td>\n",
       "      <td>-0.987392</td>\n",
       "      <td>-0.311358</td>\n",
       "      <td>0.438845</td>\n",
       "      <td>-0.097273</td>\n",
       "    </tr>\n",
       "    <tr>\n",
       "      <th>2.0</th>\n",
       "      <td>-1.332248</td>\n",
       "      <td>-0.490586</td>\n",
       "      <td>-0.594299</td>\n",
       "      <td>-0.270715</td>\n",
       "      <td>0.025561</td>\n",
       "      <td>0.774641</td>\n",
       "      <td>-0.259362</td>\n",
       "      <td>-0.296851</td>\n",
       "      <td>-0.869154</td>\n",
       "      <td>-0.987392</td>\n",
       "      <td>-0.311358</td>\n",
       "      <td>0.394484</td>\n",
       "      <td>1.328465</td>\n",
       "    </tr>\n",
       "    <tr>\n",
       "      <th>3.0</th>\n",
       "      <td>-1.332248</td>\n",
       "      <td>-0.490586</td>\n",
       "      <td>-1.305504</td>\n",
       "      <td>-0.270715</td>\n",
       "      <td>-0.023583</td>\n",
       "      <td>0.681678</td>\n",
       "      <td>-0.800480</td>\n",
       "      <td>-0.295994</td>\n",
       "      <td>-0.755088</td>\n",
       "      <td>-1.105310</td>\n",
       "      <td>0.107488</td>\n",
       "      <td>0.414103</td>\n",
       "      <td>1.186980</td>\n",
       "    </tr>\n",
       "    <tr>\n",
       "      <th>4.0</th>\n",
       "      <td>-1.332248</td>\n",
       "      <td>-0.490586</td>\n",
       "      <td>-1.305504</td>\n",
       "      <td>-0.270715</td>\n",
       "      <td>-0.023583</td>\n",
       "      <td>0.755750</td>\n",
       "      <td>-0.503396</td>\n",
       "      <td>-0.295994</td>\n",
       "      <td>-0.755088</td>\n",
       "      <td>-1.105310</td>\n",
       "      <td>0.107488</td>\n",
       "      <td>0.438845</td>\n",
       "      <td>1.491718</td>\n",
       "    </tr>\n",
       "  </tbody>\n",
       "</table>\n",
       "</div>"
      ],
      "text/plain": [
       "         CRIM        ZN     INDUS      CHAS       NOX        RM       AGE  \\\n",
       "0.0 -1.332248  0.276014 -1.286596 -0.270715  0.333828  0.471394 -0.114356   \n",
       "1.0 -1.332248 -0.490586 -0.594299 -0.270715  0.025561  0.394837  0.370174   \n",
       "2.0 -1.332248 -0.490586 -0.594299 -0.270715  0.025561  0.774641 -0.259362   \n",
       "3.0 -1.332248 -0.490586 -1.305504 -0.270715 -0.023583  0.681678 -0.800480   \n",
       "4.0 -1.332248 -0.490586 -1.305504 -0.270715 -0.023583  0.755750 -0.503396   \n",
       "\n",
       "          DIS       RAD       TAX   PTRATIO         B     PRICE  \n",
       "0.0 -0.297537 -0.983221 -0.669013 -1.474820  0.438845  0.163931  \n",
       "1.0 -0.296851 -0.869154 -0.987392 -0.311358  0.438845 -0.097273  \n",
       "2.0 -0.296851 -0.869154 -0.987392 -0.311358  0.394484  1.328465  \n",
       "3.0 -0.295994 -0.755088 -1.105310  0.107488  0.414103  1.186980  \n",
       "4.0 -0.295994 -0.755088 -1.105310  0.107488  0.438845  1.491718  "
      ]
     },
     "execution_count": 175,
     "metadata": {},
     "output_type": "execute_result"
    }
   ],
   "source": [
    "df = (df - df.mean())/df.std() #ddof=0 per replicare i risultati di sklearn\n",
    "df.head()"
   ]
  },
  {
   "cell_type": "markdown",
   "id": "438a12a0",
   "metadata": {},
   "source": [
    "### 11. Salva il nuovo dataframe in un tsv chiamato \"housing_cleaned.tsv\""
   ]
  },
  {
   "cell_type": "code",
   "execution_count": 176,
   "id": "c76dab29",
   "metadata": {},
   "outputs": [],
   "source": [
    "df.to_csv(\"housing_cleaned.tsv\", sep=\"\\t\")"
   ]
  }
 ],
 "metadata": {
  "kernelspec": {
   "display_name": "Python 3 (ipykernel)",
   "language": "python",
   "name": "python3"
  },
  "language_info": {
   "codemirror_mode": {
    "name": "ipython",
    "version": 3
   },
   "file_extension": ".py",
   "mimetype": "text/x-python",
   "name": "python",
   "nbconvert_exporter": "python",
   "pygments_lexer": "ipython3",
   "version": "3.9.13"
  }
 },
 "nbformat": 4,
 "nbformat_minor": 5
}
